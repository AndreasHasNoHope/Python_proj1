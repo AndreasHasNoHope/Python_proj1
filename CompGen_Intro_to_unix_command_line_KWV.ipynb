{
 "cells": [
  {
   "cell_type": "markdown",
   "metadata": {},
   "source": [
    "### Computational Genomics\n",
    "# Introduction to bioinformatics and the command line\n",
    "\n",
    "### modified by Dr. Kat Valero from a tutorial by Dr Dave Lunt, May 2020\n",
    "k.wollenberg-valero@hull.ac.uk, https://github.com/cybokat\n",
    "d.h.lunt@hull.ac.uk, https://github.com/davelunt\n"
   ]
  },
  {
   "cell_type": "markdown",
   "metadata": {},
   "source": [
    "### On the line below please double click then type your name"
   ]
  },
  {
   "cell_type": "markdown",
   "metadata": {},
   "source": [
    "Student: sexy birch"
   ]
  },
  {
   "cell_type": "markdown",
   "metadata": {},
   "source": [
    "## Assessed submission:\n",
    "\n",
    " **you will need to complete this notebook** and submit a PDF online. You will need to use your browser's (ideally Chrome)  File menu (three dots in upper right corner) to \"Print As PDF\" upon completion of this practical class. Please make sure that all your work is entered in this workbook and output cells are populated. It is essential that you also fill out the `Assignment` and `Quiz` sections to receive a grade."
   ]
  },
  {
   "cell_type": "markdown",
   "metadata": {},
   "source": [
    "## General Introduction\n",
    "In this practical class you will be introduced to Bioinformatics, the computational study of large scale DNA or amino acid data. Bioinformatics is a truly central discipline in all of biology. Scientists with bioinformatics skills are highly sought after and the employment opportunities are superb. Our learning goals are that you will have developed the skills to begin a bioinformatics investigation, and these same skills with also make you excellent at handling big data more generally.\n",
    "\n",
    "**DON’T PANIC! YOU DO NOT NEED COMPUTATIONAL SKILLS TO CARRY OUT THIS ASSESSMENT. EVERYTHING YOU NEED TO KNOW YOU CAN LEARN IN THIS TUTORIAL**\n",
    "\n",
    "It is essential however that you engage with the exercises, reading them carefully, trying for yourself, and asking questions if there is anything you do not understand."
   ]
  },
  {
   "cell_type": "markdown",
   "metadata": {},
   "source": [
    "### Quizzes\n",
    "\n",
    "In addition to the assessed sections that you **must** complete (labelled Assessment) we also have Quizzes. The quizzes are problems to test and improve your understanding before you complete the Assessments."
   ]
  },
  {
   "cell_type": "markdown",
   "metadata": {},
   "source": [
    "## Learning Outcomes\n",
    "At the end of this class you should:\n",
    "- **Understand the utility** of the command line\n",
    "- Be able to **switch between programming languages** in Jupyter Notebook\n",
    "- Be able to **navigate** files and directories from the command line\n",
    "- Perform **grep searches** on very large files\n",
    "- Be able to **sort**, filter and manipulate data sets"
   ]
  },
  {
   "cell_type": "markdown",
   "metadata": {},
   "source": [
    "## Table of Contents"
   ]
  },
  {
   "cell_type": "markdown",
   "metadata": {},
   "source": [
    "1. Introduction to the command line and Jupyter notebooks\n",
    "    - Programming languages\n",
    "2. Navigating the file system\n",
    "3. Inspecting file contents\n",
    "    - Assessment 1 viewing files\n",
    "    - Assessment 2 grep searching\n",
    "4. Wildcards\n",
    "    - Assessment 3 file filtering and copying\n",
    "5. Search, replace, and write output to a new file\n",
    "6. Sorting and filtering lists\n",
    "    - Assessment 4 cancer associated gene lists\n",
    "7. Uploading your assessment"
   ]
  },
  {
   "cell_type": "markdown",
   "metadata": {},
   "source": [
    "# 1. Introduction to the command line and Jupyter notebooks\n",
    "Below we will give only a very simple overview. The best way to learn the command line is to Google search for instructions and then try it yourself, experimenting as much as you can. We have also given links to other teaching resources at the end.\n",
    "\n",
    "Here we are using unix commands within a Jupyter notebook, so that you have the manual and the exercises together.In the *instructions* below we denote commands typed at the terminal with a `$` sign, whereas the output, the info returned by the terminal, has no dollar sign.\n",
    "```\n",
    "$ a typed command\n",
    "output output output\n",
    "```\n",
    "The *actual* terminal here are the grey cells (boxes) prefixed by `[ ]:`  \n",
    "Here is one:"
   ]
  },
  {
   "cell_type": "code",
   "execution_count": null,
   "metadata": {},
   "outputs": [],
   "source": []
  },
  {
   "cell_type": "markdown",
   "metadata": {},
   "source": [
    "\n",
    "Jupyter Notebooks can be run in several programming languages that are commonly used for bioinformatics applications. The most commonly used languages are R, unix/bash, and python. If you create your own Jupyter notebook, you can select in which language it should operate. This notebook was originally written for unix/bash commands. However, sometimes you want to use two languages within one existing notebook - and you can easily do so. This is the beauty of them, since you don't need to have access to a linux computer, or a python installation. **always check which language the notebook is running**. You can change this setting in the tool bar under Kernel>change Kernel.\n",
    "\n",
    "Here is how you access both unix/bash and R within a notebook that is running a Python kernel: \n",
    "\n",
    "In Python, we can print outputs with \"print\" command. Enter \n",
    "```\n",
    "$ print('hello world!') \n",
    "```\n",
    "into the cell below and run it. You can run commands in a terminal cell by clicking in it, typing a command, and then Shift-Enter to run the command. Else you click the triangular run button in the menu bar. \n",
    "\n",
    "You should see hello world printed in the output cell. You can do it again by deleting the cell>current outputs>clear command from the options below."
   ]
  },
  {
   "cell_type": "code",
   "execution_count": 2,
   "metadata": {},
   "outputs": [
    {
     "name": "stdout",
     "output_type": "stream",
     "text": [
      "hello world!\n"
     ]
    }
   ],
   "source": [
    "print('hello world!') "
   ]
  },
  {
   "cell_type": "markdown",
   "metadata": {},
   "source": [
    "But, we can also use bash in the same notebook which is used for Unix/Linux type environments. You find this language commonly in computing clusters. To use bash, add a \"!\" as a shortcut in each cell before the command. Also, The shell equivalent of the \"print\" command is \"echo\". Type in the following command in the cell below, and then run it. See if it also prints \"hello world\". We'll introduce the `echo` command later but you can probably already guess what it does.\n",
    "\n",
    "```\n",
    "$ !echo 'hello world!'\n",
    "```"
   ]
  },
  {
   "cell_type": "code",
   "execution_count": 3,
   "metadata": {},
   "outputs": [
    {
     "name": "stdout",
     "output_type": "stream",
     "text": [
      "'hello world!'\n"
     ]
    }
   ],
   "source": [
    "!echo 'hello world!'"
   ]
  },
  {
   "cell_type": "markdown",
   "metadata": {},
   "source": [
    "There is another way to use bash commands, as well as R, within a Jupyter Notebook that runs python. It is called \"Cell Magic\".\n",
    "In order to use Cell Magic, we need to install the Python package rpy2. It is best if you do this via the command line, not this Jupyter Notebook. Go back to the Jupyter directory, and open a new Terminal (top right corner New>Terminal). In the terminal, enter\n",
    "\n",
    "```\n",
    "$ pip install rpy2\n",
    "```\n",
    "\n",
    "and watch the package being installed. When you're done, return to this Jupyter Notebook. Load the package you just installed, and obtain a list of available cell magics by entering \n",
    "\n",
    "```\n",
    "$ %load_ext rpy2.ipython\n",
    "$ %lsmagic\n",
    "```\n",
    "in the cell below. Execute it and have a look at the displayed options. Look them up on Google if you wish to know more. "
   ]
  },
  {
   "cell_type": "code",
   "execution_count": 125,
   "metadata": {},
   "outputs": [
    {
     "data": {
      "application/json": {
       "cell": {
        "!": "OSMagics",
        "HTML": "Other",
        "SVG": "Other",
        "bash": "Other",
        "capture": "ExecutionMagics",
        "cmd": "Other",
        "debug": "ExecutionMagics",
        "file": "Other",
        "html": "DisplayMagics",
        "javascript": "DisplayMagics",
        "js": "DisplayMagics",
        "latex": "DisplayMagics",
        "markdown": "DisplayMagics",
        "perl": "Other",
        "prun": "ExecutionMagics",
        "pypy": "Other",
        "python": "Other",
        "python2": "Other",
        "python3": "Other",
        "ruby": "Other",
        "script": "ScriptMagics",
        "sh": "Other",
        "svg": "DisplayMagics",
        "sx": "OSMagics",
        "system": "OSMagics",
        "time": "ExecutionMagics",
        "timeit": "ExecutionMagics",
        "writefile": "OSMagics"
       },
       "line": {
        "alias": "OSMagics",
        "alias_magic": "BasicMagics",
        "autoawait": "AsyncMagics",
        "autocall": "AutoMagics",
        "automagic": "AutoMagics",
        "autosave": "KernelMagics",
        "bookmark": "OSMagics",
        "cd": "OSMagics",
        "clear": "KernelMagics",
        "cls": "KernelMagics",
        "colors": "BasicMagics",
        "conda": "PackagingMagics",
        "config": "ConfigMagics",
        "connect_info": "KernelMagics",
        "copy": "Other",
        "ddir": "Other",
        "debug": "ExecutionMagics",
        "dhist": "OSMagics",
        "dirs": "OSMagics",
        "doctest_mode": "BasicMagics",
        "echo": "Other",
        "ed": "Other",
        "edit": "KernelMagics",
        "env": "OSMagics",
        "gui": "BasicMagics",
        "hist": "Other",
        "history": "HistoryMagics",
        "killbgscripts": "ScriptMagics",
        "ldir": "Other",
        "less": "KernelMagics",
        "load": "CodeMagics",
        "load_ext": "ExtensionMagics",
        "loadpy": "CodeMagics",
        "logoff": "LoggingMagics",
        "logon": "LoggingMagics",
        "logstart": "LoggingMagics",
        "logstate": "LoggingMagics",
        "logstop": "LoggingMagics",
        "ls": "Other",
        "lsmagic": "BasicMagics",
        "macro": "ExecutionMagics",
        "magic": "BasicMagics",
        "matplotlib": "PylabMagics",
        "mkdir": "Other",
        "more": "KernelMagics",
        "notebook": "BasicMagics",
        "page": "BasicMagics",
        "pastebin": "CodeMagics",
        "pdb": "ExecutionMagics",
        "pdef": "NamespaceMagics",
        "pdoc": "NamespaceMagics",
        "pfile": "NamespaceMagics",
        "pinfo": "NamespaceMagics",
        "pinfo2": "NamespaceMagics",
        "pip": "PackagingMagics",
        "popd": "OSMagics",
        "pprint": "BasicMagics",
        "precision": "BasicMagics",
        "prun": "ExecutionMagics",
        "psearch": "NamespaceMagics",
        "psource": "NamespaceMagics",
        "pushd": "OSMagics",
        "pwd": "OSMagics",
        "pycat": "OSMagics",
        "pylab": "PylabMagics",
        "qtconsole": "KernelMagics",
        "quickref": "BasicMagics",
        "recall": "HistoryMagics",
        "rehashx": "OSMagics",
        "reload_ext": "ExtensionMagics",
        "ren": "Other",
        "rep": "Other",
        "rerun": "HistoryMagics",
        "reset": "NamespaceMagics",
        "reset_selective": "NamespaceMagics",
        "rmdir": "Other",
        "run": "ExecutionMagics",
        "save": "CodeMagics",
        "sc": "OSMagics",
        "set_env": "OSMagics",
        "store": "StoreMagics",
        "sx": "OSMagics",
        "system": "OSMagics",
        "tb": "ExecutionMagics",
        "time": "ExecutionMagics",
        "timeit": "ExecutionMagics",
        "unalias": "OSMagics",
        "unload_ext": "ExtensionMagics",
        "who": "NamespaceMagics",
        "who_ls": "NamespaceMagics",
        "whos": "NamespaceMagics",
        "xdel": "NamespaceMagics",
        "xmode": "BasicMagics"
       }
      },
      "text/plain": [
       "Available line magics:\n",
       "%alias  %alias_magic  %autoawait  %autocall  %automagic  %autosave  %bookmark  %cd  %clear  %cls  %colors  %conda  %config  %connect_info  %copy  %ddir  %debug  %dhist  %dirs  %doctest_mode  %echo  %ed  %edit  %env  %gui  %hist  %history  %killbgscripts  %ldir  %less  %load  %load_ext  %loadpy  %logoff  %logon  %logstart  %logstate  %logstop  %ls  %lsmagic  %macro  %magic  %matplotlib  %mkdir  %more  %notebook  %page  %pastebin  %pdb  %pdef  %pdoc  %pfile  %pinfo  %pinfo2  %pip  %popd  %pprint  %precision  %prun  %psearch  %psource  %pushd  %pwd  %pycat  %pylab  %qtconsole  %quickref  %recall  %rehashx  %reload_ext  %ren  %rep  %rerun  %reset  %reset_selective  %rmdir  %run  %save  %sc  %set_env  %store  %sx  %system  %tb  %time  %timeit  %unalias  %unload_ext  %who  %who_ls  %whos  %xdel  %xmode\n",
       "\n",
       "Available cell magics:\n",
       "%%!  %%HTML  %%SVG  %%bash  %%capture  %%cmd  %%debug  %%file  %%html  %%javascript  %%js  %%latex  %%markdown  %%perl  %%prun  %%pypy  %%python  %%python2  %%python3  %%ruby  %%script  %%sh  %%svg  %%sx  %%system  %%time  %%timeit  %%writefile\n",
       "\n",
       "Automagic is ON, % prefix IS NOT needed for line magics."
      ]
     },
     "execution_count": 125,
     "metadata": {},
     "output_type": "execute_result"
    }
   ],
   "source": [
    "%lsmagic"
   ]
  },
  {
   "cell_type": "markdown",
   "metadata": {},
   "source": [
    "As you can see, there are line and cell magics. We will here use the cell magics %%R for R, and %%bash for bash. \n",
    "Enter again the bash command from above, \n",
    "```\n",
    "$ !echo 'hello world!'\n",
    "```\n",
    ", but replace the \"!\" with \"%%bash\" followed by a line break. "
   ]
  },
  {
   "cell_type": "code",
   "execution_count": 294,
   "metadata": {},
   "outputs": [
    {
     "name": "stdout",
     "output_type": "stream",
     "text": [
      "hello world!\n"
     ]
    }
   ],
   "source": [
    "%%bash\n",
    "    echo 'hello world!'"
   ]
  },
  {
   "cell_type": "markdown",
   "metadata": {},
   "source": [
    "You should see that the output `'hello world!'` has again been printed direcly below the cell. Now we can try the same in R language, using the \"%%R\" cell magic (while our Notebook is still running Python). The command in R is print('...'). Try to print \"hello world!\" in the cell below."
   ]
  },
  {
   "cell_type": "code",
   "execution_count": 138,
   "metadata": {},
   "outputs": [
    {
     "name": "stdout",
     "output_type": "stream",
     "text": [
      "hello world!\n"
     ]
    }
   ],
   "source": [
    "print('hello world!')"
   ]
  },
  {
   "cell_type": "markdown",
   "metadata": {},
   "source": [
    "As you can see, we can easily use unix/bash now in the rest of the notebook, by prefacing your command cells with \"%%bash\".\n",
    "Use this in each command cell before you type in your code, unless your Jupyter Notebook kernel allows you to use bash (which the docker image we are using in this course doesn't).  "
   ]
  },
  {
   "cell_type": "markdown",
   "metadata": {},
   "source": [
    "# 2 Navigating the file system\n",
    "\n",
    "The first thing to do is to learn the basics of moving between places on your computer, checking where you are, checking what files are present and having a quick look at them. Some of the terminology is perhaps slightly new (‘directories’ rather than ‘folders’) but using the right words will mean you are speaking the same language as everyone else and make your life easier when Googling for solutions."
   ]
  },
  {
   "cell_type": "markdown",
   "metadata": {},
   "source": [
    "## 2.1 Checking where you are (`pwd`), changing directories (`cd`) and listing contents (`ls`)"
   ]
  },
  {
   "cell_type": "markdown",
   "metadata": {},
   "source": [
    "### 2.1.1 Where am I? `pwd`"
   ]
  },
  {
   "cell_type": "markdown",
   "metadata": {},
   "source": [
    "At the command line you need to know “where you are” i.e. which directory (folder) you have open and are working in. Question: If you issue the command to ‘list all files’ which files will be listed? Answer: Those in the directory where you are currently working, called the working directory. The command to find out where you are is `pwd` short for ‘print working directory’. NB: ‘print’ when working at the command line means ‘display on the screen’ rather than ‘write this to a piece of paper’. \n",
    "\n",
    "Type the command to print working directory `pwd` below, and hit Shift-Enter to run the command. Don't forget to add `%%bash` before the command."
   ]
  },
  {
   "cell_type": "code",
   "execution_count": 180,
   "metadata": {},
   "outputs": [
    {
     "name": "stdout",
     "output_type": "stream",
     "text": [
      "/c/Users/USER 17/Python/intro_jpynb_unix_blast-master\n"
     ]
    }
   ],
   "source": [
    "%%bash\n",
    "pwd"
   ]
  },
  {
   "cell_type": "markdown",
   "metadata": {},
   "source": [
    "You should see something like this:\n",
    "\n",
    "```\n",
    "$ pwd\n",
    "/home/bs/username/intro_jpynb_unix_blast\n",
    "```"
   ]
  },
  {
   "cell_type": "markdown",
   "metadata": {},
   "source": [
    "**Tip: if you want to try something and there isn't an empty terminal cell, use the menu bar + to insert a cell**\n",
    "\n",
    "Try inserting a cell below and check your working directory again"
   ]
  },
  {
   "cell_type": "markdown",
   "metadata": {},
   "source": [
    "It would be useful now to know what folders and files are present in this location"
   ]
  },
  {
   "cell_type": "markdown",
   "metadata": {},
   "source": [
    "### 2.1.2 Listing the contents of a directory with `ls`\n",
    "\n",
    "A very common thing you will want to do is to **display the contents of a directory**, i.e. list all the files. \n",
    "\n",
    "You can list the files (and directories) in your working directory using the `ls` command. Try `ls` now"
   ]
  },
  {
   "cell_type": "code",
   "execution_count": 181,
   "metadata": {},
   "outputs": [
    {
     "name": "stdout",
     "output_type": "stream",
     "text": [
      "CompGen_Intro_to_unix_command_line_KWV.ipynb\n",
      "Intro_to_unix_command_line.ipynb\n",
      "LICENSE\n",
      "README.md\n",
      "data\n",
      "fasta-file-names.txt\n",
      "greeting.txt\n",
      "rna-dna-columns.txt\n"
     ]
    }
   ],
   "source": [
    "%%bash \n",
    "    ls"
   ]
  },
  {
   "cell_type": "markdown",
   "metadata": {},
   "source": [
    "You will see the files and directories in your current folder displayed by `ls`. The jupyter notebook you are now reading will have the extension .ipnb and there will be README.md and LICENCE files. Both these may be ignored (though you will soon learn how to examine them if you wish). There will also be a directory called **data** that may be displayed in a different colour to show that it is a directory not a file."
   ]
  },
  {
   "cell_type": "markdown",
   "metadata": {},
   "source": [
    "### 2.1.3 Changing directories with cd"
   ]
  },
  {
   "cell_type": "markdown",
   "metadata": {},
   "source": [
    "But maybe this isn’t where you want to be, maybe you need to have a look at your new data, in which case you need to `‘change directory’` and the command for that is `cd`\n",
    "\n",
    "```\n",
    "$ cd data\n",
    "$ cd my_sequences\n",
    "$ pwd\n",
    "\n",
    "/home/bs/username/intro_jpynb_unix_blast/data/my_sequences\n",
    "```"
   ]
  },
  {
   "cell_type": "markdown",
   "metadata": {},
   "source": [
    "**Explanation:** Spaces in file and directory names cause difficulties as spaces are treated as the end of a file name. When looking for ‘my file’ it complains that it can’t find ‘my’. \n",
    "```\n",
    "$ cd my sequences\n",
    "-bash: cd: my: No such file or directory\n",
    "```\n",
    "\n",
    "Although this can be got around by using quotes ‘`my file`’ it is better to name files replacing spaces with underscores (e.g. `my_file`), hyphens (e.g. `my-file`), or concatenating the words (e.g. `myfile`)."
   ]
  },
  {
   "cell_type": "markdown",
   "metadata": {},
   "source": [
    "**Try navigating for yourself down to the `my_sequences` folder as outlined above.** Remember you can add extra cells, and use `pwd` and `ls` to help you"
   ]
  },
  {
   "cell_type": "code",
   "execution_count": 26,
   "metadata": {},
   "outputs": [
    {
     "name": "stdout",
     "output_type": "stream",
     "text": [
      "/c/Users/USER 17/Python/intro_jpynb_unix_blast-master/data/my_sequences\n"
     ]
    }
   ],
   "source": [
    "%%bash\n",
    "    cd data\n",
    "    cd my_sequences\n",
    "    pwd"
   ]
  },
  {
   "cell_type": "markdown",
   "metadata": {},
   "source": [
    "You can see that the `/` symbol denotes levels of directories, so that the ‘my_sequences’ directory is contained within the ‘data’ directory which is within the user's 'home' directory, and ultimately in the system’s ‘home’ directory. \n",
    "\n",
    "These **file paths** can sometimes be long but they are always explicit, which is a very good thing for reproducibility. There is no excuse for failing to remember where the data was stored for your analysis, here it is written out, and in the real world you will want to record this as part of your experiment. \n",
    "\n",
    "You can go up one level (to 'data') by using double dots (ensure there is always a space between the `cd` command and the directory you wish to go to).\n",
    "```\n",
    "$ cd data\n",
    "$ pwd\n",
    "\n",
    "/home/bs/userename/intro_jpynb_unix_blast/data\n",
    "```\n",
    "\n",
    "**Try it for yourself** (remember to always try new commands for yourself, it is an important part of your learning, don't wait for my typed reminders)"
   ]
  },
  {
   "cell_type": "code",
   "execution_count": 25,
   "metadata": {},
   "outputs": [
    {
     "name": "stdout",
     "output_type": "stream",
     "text": [
      "/c/Users/USER 17/Python/intro_jpynb_unix_blast-master/data\n"
     ]
    }
   ],
   "source": [
    "%%bash\n",
    "    cd data\n",
    "    pwd"
   ]
  },
  {
   "cell_type": "markdown",
   "metadata": {},
   "source": [
    "What happens if you use the `cd` command without telling the system where you would like to change directories to?  \n",
    "Try it. How can you find out which directory you are now in?\n",
    "```\n",
    "$ cd \n",
    "$ pwd \n",
    "/home/bs/username\n",
    "```\n",
    "\n",
    "Using `cd` command on its own returns you to your **user’s home directory**, in this case `/username` from wherever you are. NB it is **your** home directory, in my case called davelunt, and its nested within the directory called home by the computer where all users' directories are kept. **your home directory** is an important concept, this other home folder is the only difficult part, and can be ignored for the rest of today. In the example below *username* means your username, whatever it is.\n",
    "\n",
    "The tilde symbol (`~`) is shorthand for your home directory so `username/intro_jpynb_unix_blast` and `~/intro_jpynb_unix_blast` refer to the same directory, which saves a little typing. \n",
    "\n",
    "Another very useful shortcut is `cd -` (dash) which takes you to the previous directory that you were in. This is really useful when you need to swap between directories that are separated by several levels or that have long names.\n",
    "\n"
   ]
  },
  {
   "cell_type": "markdown",
   "metadata": {},
   "source": [
    "```\n",
    "$ cd ~/intro_jpynb_unix_blast/data/my_sequences\n",
    "$ pwd\n",
    "/home/bs/username/intro_jpynb_unix_blast/data/my_sequences\n",
    "$ cd\n",
    "$ pwd\n",
    "/home/bs/username\n",
    "$ cd -\n",
    "$ pwd\n",
    "/home/bs/username/intro_jpynb_unix_blast/data/my_sequences\n",
    "$ cd -\n",
    "$ pwd\n",
    "/home/bs/username\n",
    "```\n",
    "\n",
    "Make sure that you are actually typing this out for yourself rather than just reading along. This **active learning** will really help it to stick in memory, and come back when you need it, a bit like developing muscle memory.\n"
   ]
  },
  {
   "cell_type": "markdown",
   "metadata": {},
   "source": [
    "### 2.1.4 tab completion saves time and errors"
   ]
  },
  {
   "cell_type": "markdown",
   "metadata": {},
   "source": [
    "You are probably slightly annoyed now that you have to type in all these directory names, which are long and complex. If you make one typo it will result in an error. Real bioinformaticians make use of the tab key a lot. tab will suggest completions of your file path.\n",
    "\n",
    "If I am in the home directory and I type `$ cd intr<tab>` it will autocomplete to `$ cd intro_jpynb_unix_blast`\n",
    "\n",
    "Because of the way this Jupyter notebook is set up it may instead give you a list of options, you can navigate using the arrow keys, and hit RETURN when you have the right option.\n",
    "This saves a LOT of typing and prevents errors. Insert a cell below and try it now. "
   ]
  },
  {
   "cell_type": "markdown",
   "metadata": {},
   "source": [
    "### 2.1.5 Chaining commands together with a semicolon\n",
    "Above we were issuing commands one at a time; first `cd` then `pwd`. To chain commands together on the same line separate them with a semicolon ie `cd;pwd`\n",
    "\n",
    "Try the exercise from the `cd -` section above again, but now using semicolons. You should only need 4 commands not 8.\n",
    "\n",
    "Are you tab completing the addresses?"
   ]
  },
  {
   "cell_type": "code",
   "execution_count": 185,
   "metadata": {},
   "outputs": [
    {
     "name": "stdout",
     "output_type": "stream",
     "text": [
      "/c/Users/USER 17/Python/intro_jpynb_unix_blast-master/data\n",
      "/c/Users/USER 17/Python/intro_jpynb_unix_blast-master\n",
      "/c/Users/USER 17/Python/intro_jpynb_unix_blast-master/data\n",
      "/c/Users/USER 17/Python/intro_jpynb_unix_blast-master\n"
     ]
    }
   ],
   "source": [
    "%%bash\n",
    "    cd data;pwd\n",
    "    cd -;\n",
    "    cd data;pwd\n",
    "    cd -;"
   ]
  },
  {
   "cell_type": "markdown",
   "metadata": {},
   "source": [
    "## Quiz 1: Ways to return home\n",
    "There are 5 ways that you should now know to return to your home directory. Most people only remember 2 or 3, what can you do? Please work with someone nearby, tell a demonstrator, list them below, and we'll see who are the champions.\n"
   ]
  },
  {
   "cell_type": "code",
   "execution_count": 6,
   "metadata": {},
   "outputs": [
    {
     "ename": "SyntaxError",
     "evalue": "invalid syntax (<ipython-input-6-1c1bfc6c6249>, line 1)",
     "output_type": "error",
     "traceback": [
      "\u001b[1;36m  File \u001b[1;32m\"<ipython-input-6-1c1bfc6c6249>\"\u001b[1;36m, line \u001b[1;32m1\u001b[0m\n\u001b[1;33m    1. cd\u001b[0m\n\u001b[1;37m       ^\u001b[0m\n\u001b[1;31mSyntaxError\u001b[0m\u001b[1;31m:\u001b[0m invalid syntax\n"
     ]
    }
   ],
   "source": [
    "1. cd\n",
    "2. cd ~\n",
    "3. cd -   #if the previous command is to Home Directory\n",
    "4. cd ..  #if we are in a path one up from Home Directory \n",
    "5. ..."
   ]
  },
  {
   "cell_type": "markdown",
   "metadata": {},
   "source": [
    "### 2.1.6 Summary\n",
    "```\n",
    "pwd\tprint working directory, show where you are\n",
    "ls\tlist, show all the files in your current directory\n",
    "cd\tchange directory, move to another location\n",
    ";\tsemicolons can chain together commands on one line\n",
    "```\n",
    "\n",
    "Test yourself, demonstrate that you can do something using each of these"
   ]
  },
  {
   "cell_type": "markdown",
   "metadata": {},
   "source": [
    "# 3 Inspecting file contents, and searching within text files"
   ]
  },
  {
   "cell_type": "markdown",
   "metadata": {},
   "source": [
    "## 3.1 Inspecting files"
   ]
  },
  {
   "cell_type": "markdown",
   "metadata": {},
   "source": [
    "Much of bioinformatics is the inspection and retrieval of information from text files. This data is the source of all subsequent analyses and we need to make sure it is the right data in the right format.\n",
    "\n",
    "If we  want to inspect a file we can display its contents using several unix programs:\n",
    "```\n",
    "cat  \tto print the whole file to the screen\n",
    "head \tto print the first few lines of the file on screen\n",
    "tail \tto print the last few lines of the file on screen\n",
    "```\n",
    "One of the problems with DNA sequence files is that they can be large - several hundred megabytes to a few gigabytes is not uncommon. Viewing these files can be difficult, as the files need to be loaded into memory, and can therefore take a great deal of time for the text editor to read from the disk. The `head` and `tail` commands are very efficient for viewing large files such as these. \n",
    "\n",
    "Remember Googling things is encouraged, it is a great way to learn bioinformatics! Google `head` and `tail` to learn more about them if you wish. Both `head` and `tail` display 10 lines by defualt, but they allow you to specify the number of lines to display, so `head -20` would display the first 20 lines and `tail -5` the last 5 lines.\n",
    "\n",
    "Remembering tab completion navigate to the directory `/data/my_sequences`. Tip; when navigating use `ls` to see what is available.\n",
    "\n",
    "Some of these files e.g. `C.09.F.fasta` are quite large (~30Mb), while the others are smaller. Only one of the commands above is inappropriate for large files all the others will be useful. If you have a problem don't panic, ask a demonstrator.\n",
    "\n",
    "If unsure about the size of a file `head` is a good way to have a look at it. If you actually want to know how big a file is you can display this with a version of the `ls` command `ls -lh` Try it.\n",
    "\n",
    "All the commands above will be very useful for basic bioinformatics work, they are key skills. "
   ]
  },
  {
   "cell_type": "code",
   "execution_count": 30,
   "metadata": {},
   "outputs": [
    {
     "name": "stdout",
     "output_type": "stream",
     "text": [
      "18S_seqs.fas\n",
      "C.09.F.fasta\n",
      "hep_cd\n",
      "sequence1.fas\n",
      "shortseqs.fas\n"
     ]
    }
   ],
   "source": [
    "%%bash\n",
    "    cd data\n",
    "    cd my_sequences\n",
    "    ls"
   ]
  },
  {
   "cell_type": "markdown",
   "metadata": {},
   "source": [
    "----\n",
    "## Assessment 1 - viewing files\n",
    "\n",
    "Navigate to the `data/headers` directory.\n",
    "How big are the files? Remember the `ls -lh` command from above? Which commands should you use for big or small files and why?\n",
    "\n",
    "In the 3 cells below use each of the following commands to view the contents of the file `display-test.fas`.\n",
    "1. cat\n",
    "2. head\n",
    "3. tail \n"
   ]
  },
  {
   "cell_type": "code",
   "execution_count": 33,
   "metadata": {},
   "outputs": [
    {
     "name": "stdout",
     "output_type": "stream",
     "text": [
      ">gi|957760563|gb|KP901051.1| Meloidogyne graminis voucher 14-39813 18S ribosomal RNA gene, partial sequence\n",
      "AGTTTAATCGTTTTTACGAGAAACCGCGAACGGCTCATTACAATGGCCATGATTTACTTGATCTTGATCA\n",
      "ATCCTAAATGGATAACTGTGGAAAATCTAGAGCTAATACATGCCCTAAAGCTATGTCCTTTGGAATAGTG\n",
      "CATTTATTAGAACAAAACCAAGCGGCTTCGGCTGCTTTTTGGTGATTCAGAATAACTAAGCTGACCGCAT\n",
      "GGCCTTGTGCCGGCGGCGTGTCTTTCAAGTGTCCACTTTATCAACTTGACGGGAGCATAATCGACTCCCG\n",
      "TGGTGGTGACGGATAACGGAGGATCAGGGTTCGACTCCGGAGAAGGGGCCTGAGAAATGGCCACTACGTC\n",
      "TAAGGATGGCAGCAGGCGCGCAAATTACCCACTCTCGGCTCGAGGAGGTAGTGACGAGAAATAACGAGAT\n",
      "CGTTCTCTTATGAGGCCGGTCATCGGAATGGGTACAATTTAAACCCTTTAACGAGTATCAAGCAGAGGGC\n",
      "AAGTCTGGTGCCAGCAGCCGCGGTAATTCCAGCTCTGCCAATGCATAGACTTATTGCTGCGGTTAAAAAG\n",
      "CTCGTAGTTGGATCTGTTTCGATATCCTGGAACCCTTTTTAGGTGTTTCTAGGTTTTATCGATTTTTCGT\n",
      "AATGTTTCGGACTTGAATTCTTAACGGAATTCATTTCTAGACATTGCAGGTTTACTTTGAACAAATCAGA\n",
      "GTGCTTCAAACAAGCGTTTTCGCTTGAATGATCGTGCATGGAATAATAGAAAACGATTTCGGTTCAGTTT\n",
      "TATTGGTTTTACGGACTGAGATAATGGTTAACAGAGACAAACGGGGGCATTTGTATGGCCCCGTGAGAGG\n",
      "TGAAATTCTTGGACCGTGGCCAGACAAACTACAGCGAAAGCATTTGCCAAGAATGTCTTCATTAATCAAG\n",
      "AACGAAAGTCAGAGGTTCGAAGGCGATCAGATACCGCCCTAGTTCTGACCGTAAACGATGCCAACTAGCG\n",
      "ATCCGCCGATGGAGATTATATTGCCTTGGTGGGGAGCTTCCCGGAAACGAAAGTCTTCCGGTTCCGGGGG\n",
      "AAGTATGGTTGCAAAGCTGAAACTTAAAGGAATTGACGGAAGGGCACCACCAGGAGTGGAGCCTGCGGCT\n",
      "TAATTTGACTCAACACGGGGAAACTCACCCGGCCCGGACACTGTGAGGATTGACAGATTGATAGCTTTTT\n",
      "CATGATTCAGTGGATGGTGGTGCATGGCCGTTCTTAGTTCGTGGAGTGATTTGTCTGGTTTATTCCGATA\n",
      "ACGAGCGAGACTCTAACCTACTAAATAGCTGATACATATTTTTGTGTATTCGGCTTCTTAGAGGGATTTG\n",
      "CGGTGTTCAGCCGAAAGAAATTGAGCAATAACAGGTCTGTGATGCCCTTAGATGTCCGGGGCTGCACGCG\n",
      "CGCTACACTGGCAAAATCAACGTGCTTGTCCTGCCCCGAAAGGGGTGGGTAAACCATTGAAAATTTGCCG\n",
      "TGATTGGGATCGGAAATTGCAATTATTTTCCGTGAACGAGGAATTCCAAGTAAGTGCGAGTCATCAGCTC\n",
      "GCGTTGATTACGTCCCTGCCCTTTGTACACACCGCCCGTCGCTGCCCGGGACTGAGCCATTTCGAGAAAT\n",
      "TTGGGGACCGTTGATTTAATTTTTTTAAATTACTTTTGATGGAAACCAATTTAATCGCAGTGGCTTGAAC\n",
      "CGGGCAAAAGTCGTAACAAGGTAGCTGTAGGTGAACCTGCTGCTGGATCATTACTTT\n",
      "\n",
      ">gi|957760562|gb|KP901050.1| Meloidogyne graminis voucher 14-36570 18S ribosomal RNA gene, partial sequence\n",
      "AGTTTAATCGTTTTTACGAGAAACCGCGAACGGCTCATTACAATGGCCATGATTTACTTGATCTTGATCA\n",
      "ATCCTAAATGGATAACTGTGGAAAATCTAGAGCTAATACATGCCCTAAAGCTATGTCCTTTGGAATAGTA\n",
      "CATTTATTAGAACAAAACCAAGCGGCTTCGGCTGCTTTTTGGTGATTCAGAATAACTAAGCTGACCGCAT\n",
      "GGCCTTGTGCCGGCGGCGTGTCTTTCAAGTGTCCACTTTATCAACTTGACGGGAGCATAATCGACTCCCG\n",
      "TGGTGGTGACGGATAACGGAGGATCAGGGTTCGACTCCGGAGAAGGGGCCTGAGAAATGGCCACTACGTC\n",
      "TAAGGATGGCAGCAGGCGCGCAAATTACCCACTCTCGGCTCGAGGAGGTAGTGACGAGAAATAACGAGAT\n",
      "CGTTCTCTTATGAGGCCGGTCATCGGAATGGGTACAATTTAAACCCTTTAACGAGTATCAAGCAGAGGGC\n",
      "AAGTCTGGTGCCAGCAGCCGCGGTAATTCCAGCTCTGCCAATGCATAGACTTATTGCTGCGGTTAAAAAG\n",
      "CTCGTAGTTGGATCTGTTTCGATATCCTGGAACCCTTTCGGGGTGTTTCTAGGTTTTATCGATTTTTCGT\n",
      "AATGTTTCGGACTTGAATTCTTACAAGAGTTCATTTCTAGACATTGCAGGTTTACTTTGAACAAATCAGA\n",
      "GTGCTTCAAACAGGCGTTTTCGCTTGAATGATCGTGCATGGAATAATAGAAAACGATTTCGGTTCAGTTT\n",
      "TATTGGTTTTACGGACTGAGATAATGGTTAACAGAGACAAACGGGGGCATTTGTATGGCCCCGTGAGAGG\n",
      "TGAAATTCTTGGACCGTGGCCAGACAAACTACAGCGAAAGCATTTGCCAAGAATGTCTTCATTAATCAAG\n",
      "AACGAAAGTCAGAGGTTCGAAGGCGATCAGATACCGCCCTAGTTCTGACCGTAAACGATGCCAACTAGCG\n",
      "ATCCGCCGATGGAGATTATATTGCCTTGGTGGGGAGCTTCCCGGAAACGAAAGTCTTCCGGTTCCGGGGG\n",
      "AAGTATGGTTGCAAAGCTGAAACTTAAAGGAATTGACGGAAGGGCACCACCAGGAGTGGAGCCTGCGGCT\n",
      "TAATTTGACTCAACACGGGGAAACTCACCCGGCCCGGACACTGTGAGGATTGACAGATTGATAGCTTTTT\n",
      "CATGATTCAGTGGATGGTGGTGCATGGCCGTTCTTAGTTCGTGGAGTGATTTGTCTGGTTTATTCCGATA\n",
      "ACGAGCGAGACTCTAACCTACTAAATAGCTGATACATATTTTTGTGTATTCGGCTTCTTAGAGGGATTTG\n",
      "CGGTGTTCAGCCGAAAGAAATTGAGCAATAACAGGTCTGTGATGCCCTTAGATGTCCGGGGCTGCACGCG\n",
      "CGCTACACTGGCAAAATCAACGTGCTTGTCCTGCCCCGAAAGGGGTGGGTAAACCATTGAAAATTTGCCG\n",
      "TGATTGGGATCGGAAATTGCAATTATTTTCCGTGAACGAGGAATTCCAAGTAAGTGCGAGTCATCAGCTC\n",
      "GCGTTGATTACGTCCCTGCCCTTTGTACACACCGCCCGTCGCTGCCCGGGACTGAGCCATTTCGAGAAAT\n",
      "TTGGGGACCGTTGATTTAATTTTTTTAAATTACTTTTGATGGAAACCAATTTAATCGCAGTGGCTTGAAC\n",
      "CGGGCAAAAGTCGTAACAAGGTAGCTGTAGGTGAACCTGCTGCTGGATCATTACTTT\n",
      "\n",
      ">gi|957760561|gb|KP901049.1| Meloidogyne marylandi voucher 14-35854 18S ribosomal RNA gene, partial sequence\n",
      "AGTTTAATCGTTTTTACGAGAAACCGCGAACGGCTCATTACAATGGCCATGATTTACTTGATCTTGATAA\n",
      "ATCCTAAATGGATAACTGTGGAAAATCTAGAGCTAATACATGCCCTAAAGCTATGTCCTTCGGAATAGTG\n",
      "CATTTATTAGAACAAAACCAAGCGGCTTCGGCTGCTTTTTGGTGATTCAGAATAACTAAGCTGACCGCAT\n",
      "GGCCTTGTGCCGGCGGCGTGTCTTTCAAGTGTCCACTTTATCAACTTGACGGGAGCATAATCGACTCCCG\n",
      "TGGTGGTGACGGATAACGGAGGATCAGGGTTCGACTCCGGAGAAGGGGCCTGAGAAATGGCCACTACGTC\n",
      "TAAGGATGGCAGCAGGCGCGCAAATTACCCACTCTCGGCTCGAGGAGGTAGTGACGAGAAATAACGAGAT\n",
      "CGTTCTCTTATGAGGCCGGTCATCGGAATGGGTACAATTTAAACCCTTTAACGAGTATCAAGCAGAGGGC\n",
      "AAGTCTGGTGCCAGCAGCCGCGGTAATTCCAGCTCTGCCAATGCATAGACTTATTGCTGCGGTTAAAAAG\n",
      "CTCGTAGTTGGATCTGTTTCGATATCCTGGAACCCTTTTTAGGTGTTTCTAGGTTTTATCGATTTTTCGT\n",
      "AATGTTTCGGACTTGAATTCTTAACGGAATTCATTTCTAGACATTGCAGGTTTACTTTGAACAAATCAGA\n",
      "GTGCTTCAAACAAGCGTTTTCGCTTGAATGATCGTGCATGGAATAATAGAAAACGATTTCGGTTCAGTTT\n",
      "TATTGGTTTTACGGACTGAGATAATGGTTAACAGAGACAAACGGGGGCATTTGTATGGCCCCGTGAGAGG\n",
      "TGAAATTCTTGGACCGTGGCCAGACAAACTACAGCGAAAGCATTTGCCAAGAATGTCTTCATTAATCAAG\n",
      "AACGAAAGTCAGAGGTTCGAAGGCGATCAGATACCGCCCTAGTTCTGACCGTAAACGATGCCAACTAGCG\n",
      "ATCCGCCGATGGAGATTATATTGCCTTGGTGGGGAGCTTCCCGGAAACGAAAGTCTTCCGGTTCCGGGGG\n",
      "AAGTATGGTTGCAAAGCTGAAACTTAAAGGAATTGACGGAAGGGCACCACCAGGAGTGGAGCCTGCGGCT\n",
      "TAATTTGACTCAACACGGGGAAACTCACCCGGCCCGGACACTGTGAGGATTGACAGATTGATAGCTTTTT\n",
      "CATGATTCAGTGGATGGTGGTGCATGGCCGTTCTTAGTTCGTGGAGTGATTTGTCTGGTTTATTCCGATA\n",
      "ACGAGCGAGACTCTAACCTACTAAATAGCTGATACATATTTTTGTGTATTCGGCTTCTTAGAGGGATTTG\n",
      "CGGTGTTCAGCCGAAAGAAATTGAGCAATAACAGGTCTGTGATGCCCTTAGATGTCCGGGGCTGCACGCG\n",
      "CGCTACACTGGCAAAATCAACGTGCTTGTCCTGCCCCGAAAGGGGTGGGTAAACCATTGAAAATTTGCCG\n",
      "TGATTGGGATCGGAAATTGCAATTATTTTCCGTGAACGAGGAATTCCAAGTAAGTGCGAGTCATCAGCTC\n",
      "GCGTTGATTACGTCCCTGCCCTTTGTACACACCGCCCGTCGCTGCCCGGGACTGAGCCATTTCGAGAAAT\n",
      "TTGGGGACCGTTGATTTAATTTTTTTAAATTACTTTTGATGGAAACCAATTTAATCGCAGTGGCTTGAAC\n",
      "CGGGCAAAAGTCGTAACAAGGTAGCTGTAGGTGAACCTGCTGCTGGATCATTACTTTTATGTGATGTTCA\n",
      "TATTTGAAATTTCACACCTTTAGATGTGTAACGGCTGTCGCTGGTGTCTATGTGTTGCTGATTCAGTTGT\n",
      "GAACGTCCGTGACTGAATATGAGGTGACATGTTAGGATCTTTTTTAAGATCGTAAGACTTAATGAGCCCT\n",
      "TTATTGGGACGCCAGCACCCTTTTTTTCTTTAAATTTTTTTAAAAAACGAAAAATTCTAGCCTTACCGGT\n",
      "GGATCACTCGGCTCGTGGATCGATGAAGAACGCAGCAAACTGCGATAATTTGTGC\n"
     ]
    }
   ],
   "source": [
    "%%bash\n",
    "    cd data\n",
    "    cd headers\n",
    "    cat display-test.fas"
   ]
  },
  {
   "cell_type": "code",
   "execution_count": 37,
   "metadata": {},
   "outputs": [
    {
     "name": "stdout",
     "output_type": "stream",
     "text": [
      ">gi|957760563|gb|KP901051.1| Meloidogyne graminis voucher 14-39813 18S ribosomal RNA gene, partial sequence\n",
      "AGTTTAATCGTTTTTACGAGAAACCGCGAACGGCTCATTACAATGGCCATGATTTACTTGATCTTGATCA\n",
      "ATCCTAAATGGATAACTGTGGAAAATCTAGAGCTAATACATGCCCTAAAGCTATGTCCTTTGGAATAGTG\n",
      "CATTTATTAGAACAAAACCAAGCGGCTTCGGCTGCTTTTTGGTGATTCAGAATAACTAAGCTGACCGCAT\n",
      "GGCCTTGTGCCGGCGGCGTGTCTTTCAAGTGTCCACTTTATCAACTTGACGGGAGCATAATCGACTCCCG\n",
      "TGGTGGTGACGGATAACGGAGGATCAGGGTTCGACTCCGGAGAAGGGGCCTGAGAAATGGCCACTACGTC\n",
      "TAAGGATGGCAGCAGGCGCGCAAATTACCCACTCTCGGCTCGAGGAGGTAGTGACGAGAAATAACGAGAT\n",
      "CGTTCTCTTATGAGGCCGGTCATCGGAATGGGTACAATTTAAACCCTTTAACGAGTATCAAGCAGAGGGC\n",
      "AAGTCTGGTGCCAGCAGCCGCGGTAATTCCAGCTCTGCCAATGCATAGACTTATTGCTGCGGTTAAAAAG\n",
      "CTCGTAGTTGGATCTGTTTCGATATCCTGGAACCCTTTTTAGGTGTTTCTAGGTTTTATCGATTTTTCGT\n"
     ]
    }
   ],
   "source": [
    "%%bash\n",
    "    cd data\n",
    "    cd headers\n",
    "    head display-test.fas\n",
    "\n",
    "    "
   ]
  },
  {
   "cell_type": "code",
   "execution_count": 38,
   "metadata": {},
   "outputs": [
    {
     "name": "stdout",
     "output_type": "stream",
     "text": [
      "CGGTGTTCAGCCGAAAGAAATTGAGCAATAACAGGTCTGTGATGCCCTTAGATGTCCGGGGCTGCACGCG\n",
      "CGCTACACTGGCAAAATCAACGTGCTTGTCCTGCCCCGAAAGGGGTGGGTAAACCATTGAAAATTTGCCG\n",
      "TGATTGGGATCGGAAATTGCAATTATTTTCCGTGAACGAGGAATTCCAAGTAAGTGCGAGTCATCAGCTC\n",
      "GCGTTGATTACGTCCCTGCCCTTTGTACACACCGCCCGTCGCTGCCCGGGACTGAGCCATTTCGAGAAAT\n",
      "TTGGGGACCGTTGATTTAATTTTTTTAAATTACTTTTGATGGAAACCAATTTAATCGCAGTGGCTTGAAC\n",
      "CGGGCAAAAGTCGTAACAAGGTAGCTGTAGGTGAACCTGCTGCTGGATCATTACTTTTATGTGATGTTCA\n",
      "TATTTGAAATTTCACACCTTTAGATGTGTAACGGCTGTCGCTGGTGTCTATGTGTTGCTGATTCAGTTGT\n",
      "GAACGTCCGTGACTGAATATGAGGTGACATGTTAGGATCTTTTTTAAGATCGTAAGACTTAATGAGCCCT\n",
      "TTATTGGGACGCCAGCACCCTTTTTTTCTTTAAATTTTTTTAAAAAACGAAAAATTCTAGCCTTACCGGT\n",
      "GGATCACTCGGCTCGTGGATCGATGAAGAACGCAGCAAACTGCGATAATTTGTGC\n"
     ]
    }
   ],
   "source": [
    "%%bash\n",
    "    cd data\n",
    "    cd headers\n",
    "    tail display-test.fas"
   ]
  },
  {
   "cell_type": "markdown",
   "metadata": {},
   "source": [
    "-----"
   ]
  },
  {
   "cell_type": "markdown",
   "metadata": {},
   "source": [
    "## 3.2 Searching within files\n",
    "Searching within very large files however can also be problematic, especially using the standard 'find' functions in a text editor, which aren’t optimised for performing searches across very large files. For this reason various tools have been created that allow users to search within large files from the command line, and are highly optimised for their function. One of the most useful utilities for searching within a file is `grep` (global regular expression parser).\n",
    "\n",
    "`grep` is very simple to use. At the command line you will need to type the word `grep`, followed by the text you are searching for, followed by where (the filename) to look for it. For example, to search for the word Fungi in our 18S_seqs.fas file we do the following:\n",
    "```\n",
    "$ cd ~/intro_jpynb_unix_blast/data/my_sequences/\n",
    "$ grep 'Fungi' 18S_seqs.fas\n",
    ">AY642706_10 1401 Eukarya/Fungi\n",
    "```\n",
    "\n",
    "This returns the text `>AY642706_10 1401 Eukarya/Fungi` which is the single line that contains the word Fungi. This is the output of `grep`, the line on which the search phrase is found.\n",
    "\n",
    "Make sure that you are trying this for yourself, by inserting cells and giving the command\n",
    "\n",
    "We can confirm that there is only one instance by using the **count flag** (`-c`) with `grep` as follows:\n",
    "```\n",
    "$ grep -c 'Fungi' 18S_seqs.fas\n",
    "1\n",
    "```\n",
    "\n",
    "(Flags are useful things, they allow the default behaviour of a command to be refined. You have already used one (-lh) with the `ls` command to make it show you files sizes. See the section on HELP below to learn how to list all the modifier flags for a command.)"
   ]
  },
  {
   "cell_type": "markdown",
   "metadata": {},
   "source": [
    "### 3.2.1 How many sequences do I have?\n",
    "A very common question is to ask is ‘how many DNA sequence records are in this enormous fasta file?’ \n",
    "\n",
    "**Tip: Do you know what a sequence record looks like? Quickly learn about fasta sequence files from Appendix 1. Now try to see if the sequence file '18S_seqs.fas' matches your expectations. You already have the skills to do this without loading the whole file into memory, can you remember how? Check above if not.**\n",
    "\n",
    "In order to find out the number of sequences you could of course search for all the greater than `>` symbols, which is almost certainly the number of records. However, you should really search for all the lines *starting with* > rather than the number of times it occurs, as it is possible for a fasta header to contain an internal > . ‘Line starts with’ is represented by the `^` symbol. "
   ]
  },
  {
   "cell_type": "markdown",
   "metadata": {},
   "source": [
    "Try to design a `grep` search to count the number of fasta header lines. Do not copy/paste from any web resource. Discuss your solution with your partner."
   ]
  },
  {
   "cell_type": "markdown",
   "metadata": {},
   "source": [
    "----\n",
    "# Assessment 2 `grep` "
   ]
  },
  {
   "cell_type": "markdown",
   "metadata": {},
   "source": [
    "Use a `grep` search to count the number of fasta header lines in the two files `18S_seqs.fas` and  `C.09.F.fasta`. Ensure that the searches and output are below."
   ]
  },
  {
   "cell_type": "code",
   "execution_count": 39,
   "metadata": {
    "scrolled": true
   },
   "outputs": [
    {
     "name": "stdout",
     "output_type": "stream",
     "text": [
      "154340\n"
     ]
    }
   ],
   "source": [
    "%%bash\n",
    "    cd data\n",
    "    cd my_sequences\n",
    "   grep -c \"^\" C.09.F.fasta"
   ]
  },
  {
   "cell_type": "code",
   "execution_count": 40,
   "metadata": {},
   "outputs": [
    {
     "name": "stdout",
     "output_type": "stream",
     "text": [
      "13\n"
     ]
    }
   ],
   "source": [
    "%%bash\n",
    "    cd data\n",
    "    cd my_sequences\n",
    "   grep -c \">\" 18S_seqs.fas"
   ]
  },
  {
   "cell_type": "markdown",
   "metadata": {},
   "source": [
    "----"
   ]
  },
  {
   "cell_type": "markdown",
   "metadata": {},
   "source": [
    "Have you remembered the quotation marks around the search phrase? Unfortunately if you haven't your solution will probably delete the data file! Why? Look at section 2.3.1 below and discuss. If you have deleted your file a spare file can be found in `/data/backup`. You only need to copy from /backup if you have deleted your file. Can you find a way from the command line to **copy** this file to your current directory? Google for a solution on how to copy a file at the unix command line. Try it, and list the files to see if you have been successful. Check with a demonstrator if you need.\n",
    "\n",
    "You may try your `grep` search again in a new cell below and still get the marks for completing this assessment."
   ]
  },
  {
   "cell_type": "code",
   "execution_count": null,
   "metadata": {},
   "outputs": [],
   "source": []
  },
  {
   "cell_type": "markdown",
   "metadata": {},
   "source": [
    "A correct `grep` for counting sequence records, and using it to search these two files will get you the marks"
   ]
  },
  {
   "cell_type": "markdown",
   "metadata": {},
   "source": [
    "----"
   ]
  },
  {
   "cell_type": "markdown",
   "metadata": {},
   "source": [
    "## 3.3 Summary\n",
    "```\n",
    "head\tshow the first few lines of a file\n",
    "tail\tshow the last few lines of a file\n",
    "cat \tprint the whole file to the screen\n",
    "grep\tsearch, the -c flag counts the matches\n",
    "```"
   ]
  },
  {
   "cell_type": "markdown",
   "metadata": {},
   "source": [
    "## Quiz 2 (Googling is OK)\n",
    "How many lines does `head` display? How can that be changed? Show me\n",
    "\n",
    "Now write a `grep` search with the correct syntax to find \"Nematoda\" in `18S_seqs.fas`. How many times does it occur?\n",
    "\n",
    "Write a `grep` search to find the DNA sequence \"GCCATGCG\" in `18S_seqs.fas`. Why does it print out so much DNA sequence? How many times does GCCATGCG occur?"
   ]
  },
  {
   "cell_type": "code",
   "execution_count": 13,
   "metadata": {},
   "outputs": [
    {
     "ename": "SyntaxError",
     "evalue": "invalid syntax (<ipython-input-13-3cfa67fc85cb>, line 1)",
     "output_type": "error",
     "traceback": [
      "\u001b[1;36m  File \u001b[1;32m\"<ipython-input-13-3cfa67fc85cb>\"\u001b[1;36m, line \u001b[1;32m1\u001b[0m\n\u001b[1;33m    The head command reads the first few lines of any text given to it as an input and writes them to standard output , head -15\u001b[0m\n\u001b[1;37m        ^\u001b[0m\n\u001b[1;31mSyntaxError\u001b[0m\u001b[1;31m:\u001b[0m invalid syntax\n"
     ]
    }
   ],
   "source": [
    "The head command reads the first few lines of any text given to it as an input and writes them to standard output , head -n 1"
   ]
  },
  {
   "cell_type": "code",
   "execution_count": 41,
   "metadata": {},
   "outputs": [
    {
     "name": "stdout",
     "output_type": "stream",
     "text": [
      "1\n"
     ]
    }
   ],
   "source": [
    "%%bash \n",
    "    cd data\n",
    "    cd my_sequences\n",
    "    grep -c \"Nematoda\" 18S_seqs.fas "
   ]
  },
  {
   "cell_type": "code",
   "execution_count": 48,
   "metadata": {},
   "outputs": [
    {
     "name": "stdout",
     "output_type": "stream",
     "text": [
      "4\n"
     ]
    }
   ],
   "source": [
    "%%bash \n",
    "    cd data\n",
    "    cd my_sequences\n",
    "    grep -c \"GCCATGCG\" 18S_seqs.fas"
   ]
  },
  {
   "cell_type": "markdown",
   "metadata": {},
   "source": [
    "-----\n"
   ]
  },
  {
   "cell_type": "markdown",
   "metadata": {},
   "source": [
    "# 4 Wildcards"
   ]
  },
  {
   "cell_type": "markdown",
   "metadata": {},
   "source": [
    "We have learned about displaying files and basic searches. Later you will create and move information into files. We need more detailed control however, not just displaying one named file, or all files, but instead the files we have specifically chosen. Wildcards allow us to select text and file names in a powerful and flexible way that makes life much easier."
   ]
  },
  {
   "cell_type": "markdown",
   "metadata": {},
   "source": [
    "## 4.1 What are wildcards?"
   ]
  },
  {
   "cell_type": "markdown",
   "metadata": {},
   "source": [
    "Wildcards represent characters, and allow you to create a search term to select files or directories. \n",
    "\n",
    "They allow selections to be both very broad (by having a general matching criteria, all file names beginning with a letter) and very specific (by having very detailed matching criteria, all files with f as the second letter and a number between 1 and 5 at the end). \n",
    "\n",
    "**Here is the basic set of wildcards:**\n",
    "\n",
    "`*` - represents any character ocurring zero or more times (nothing or everything). eg `f*` represents the letter f followed by any number of characters whatever they are. So files fez.txt, f1234.jpg and fibonacci.mpeg would all match, as would a file just called f.\n",
    "\n",
    "`?` - represents any single character. eg `d?g` would match dog, dig, or d8g\n",
    "\n",
    "`[ ]` - represents a specified range of single characters. eg `d[a-n]g` would match dag, dbg, dcg etc but not dog \n",
    "\n",
    "The most useful for you today will be the star (*) wildcard. Like all wildcards * helps to create a pattern (series of characters) and that pattern is used by the program to define what it does."
   ]
  },
  {
   "cell_type": "markdown",
   "metadata": {},
   "source": [
    "## 4.2 Listing using wildcards"
   ]
  },
  {
   "cell_type": "markdown",
   "metadata": {},
   "source": [
    "Previously `ls` has been used to display all files in a directory, but now lets select only certain files. In the world of big data there may be thousands of files of different file types, or with different metadata included in the file name. Selecting only the files meeting certain criteria is very useful. Later you will learn how to use these selected files, and only those selected.\n",
    "\n",
    "`ls` lists the contents of the working directory\n",
    "\n",
    "`ls data` lists the contents of the data directory\n",
    "\n",
    "`ls data/my_sequences/sequence1.fas` will list the specified file (sequence1.fas)\n",
    "\n",
    "`ls data/my_sequences/*.fas` will list all files whose names are any number of any characters followed by “.fas”. So the files `sequence1.fas`, `shortseqs.fas`, `18S_seqs.fas`, but not `C.09.F.fasta` will match the pattern created by the * wildcard (*.fas)."
   ]
  },
  {
   "cell_type": "markdown",
   "metadata": {},
   "source": [
    "If you are getting `No such file or directory` errors please check that you are in the mail folder above data"
   ]
  },
  {
   "cell_type": "markdown",
   "metadata": {},
   "source": [
    "## Quiz 3\n",
    "Write a command to find each of the following in any directory (you do not need these files):\n",
    "\n",
    "1. all the .txt files \n",
    "2. all the .jpeg files? \n",
    "3. all the files named 1234 whatever file extension they have (.jpeg, .txt, .fas)\n",
    "4. How would you list only the fasta files beginning with “sequence” and not “Dave” or anything else? As a complication, one user has put sequence files with a .fas suffix, another with .fasta, and a third with .fa. This is bad naming practice, but we need all the fasta files. What wildcard command would list them out?\n",
    "----\n"
   ]
  },
  {
   "cell_type": "code",
   "execution_count": 171,
   "metadata": {},
   "outputs": [
    {
     "name": "stdout",
     "output_type": "stream",
     "text": [
      "data/fruit.txt\n",
      "data/greeting.txt\n"
     ]
    }
   ],
   "source": [
    "%%bash\n",
    "    ls data/*.txt"
   ]
  },
  {
   "cell_type": "code",
   "execution_count": 323,
   "metadata": {},
   "outputs": [
    {
     "name": "stdout",
     "output_type": "stream",
     "text": [
      "data/test.jpg\n"
     ]
    }
   ],
   "source": [
    "%%bash\n",
    "    ls data/*.jpg "
   ]
  },
  {
   "cell_type": "code",
   "execution_count": 170,
   "metadata": {},
   "outputs": [
    {
     "name": "stdout",
     "output_type": "stream",
     "text": [
      "data/my_sequences/1234.txt\n"
     ]
    }
   ],
   "source": [
    "%%bash\n",
    "     ls data/my_sequences/1234.*"
   ]
  },
  {
   "cell_type": "code",
   "execution_count": 179,
   "metadata": {},
   "outputs": [
    {
     "name": "stdout",
     "output_type": "stream",
     "text": [
      "data/my_sequences/sequence1.fas\n"
     ]
    }
   ],
   "source": [
    "%%bash\n",
    "    ls data/my_sequences/sequence*.fa***"
   ]
  },
  {
   "cell_type": "markdown",
   "metadata": {},
   "source": [
    "## 4.3 unix commands are case sensitive "
   ]
  },
  {
   "cell_type": "markdown",
   "metadata": {},
   "source": [
    "Most commands at the terminal are case sensitive, so `ls Dave.*` and `ls dave.*` will produce different results. \n",
    "This is a common error you should watch out for. There are ways to make commands **case insensitive** (so `Dave.fas` and `dave.fas` are treated the same) but it is not the default behaviour of command line programs."
   ]
  },
  {
   "cell_type": "markdown",
   "metadata": {},
   "source": [
    "## 4.4 Use wildcards anywhere"
   ]
  },
  {
   "cell_type": "markdown",
   "metadata": {},
   "source": [
    "The wildcards you are using are not specific to `ls`, it is the bash kernel (the program that runs the command line terminal) that does the hard work. It translates your wildcard pattern (`sequence*.fas`) into a list of files that match (`sequence1.fas`, `sequence100.fas`) and feeds those to the ls program. \n",
    "\n",
    "The good news is that it does this for every program not just ls so your new wildcard skills can be used anywhere."
   ]
  },
  {
   "cell_type": "markdown",
   "metadata": {},
   "source": [
    "----\n"
   ]
  },
  {
   "cell_type": "markdown",
   "metadata": {},
   "source": [
    "# Assessment 3 - file filtering and copying"
   ]
  },
  {
   "cell_type": "markdown",
   "metadata": {},
   "source": [
    "**Write a command to take all the fasta files in the `data/sequences` directory that contain the word “sequence” and copy them to the `data/my_sequences` directory**"
   ]
  },
  {
   "cell_type": "code",
   "execution_count": 168,
   "metadata": {},
   "outputs": [
    {
     "name": "stderr",
     "output_type": "stream",
     "text": [
      "cp: cannot create regular file '/my_sequences': Permission denied\n"
     ]
    },
    {
     "ename": "CalledProcessError",
     "evalue": "Command 'b'     cd data\\n     cp sequences/sequence*.fasta /my_sequences\\n    \\n     \\n    \\n     \\n'' returned non-zero exit status 1.",
     "output_type": "error",
     "traceback": [
      "\u001b[1;31m---------------------------------------------------------------------------\u001b[0m",
      "\u001b[1;31mCalledProcessError\u001b[0m                        Traceback (most recent call last)",
      "\u001b[1;32m<ipython-input-168-e3c7d6f7d898>\u001b[0m in \u001b[0;36m<module>\u001b[1;34m\u001b[0m\n\u001b[1;32m----> 1\u001b[1;33m \u001b[0mget_ipython\u001b[0m\u001b[1;33m(\u001b[0m\u001b[1;33m)\u001b[0m\u001b[1;33m.\u001b[0m\u001b[0mrun_cell_magic\u001b[0m\u001b[1;33m(\u001b[0m\u001b[1;34m'bash'\u001b[0m\u001b[1;33m,\u001b[0m \u001b[1;34m''\u001b[0m\u001b[1;33m,\u001b[0m \u001b[1;34m'     cd data\\n     cp sequences/sequence*.fasta /my_sequences\\n    \\n     \\n    \\n     \\n'\u001b[0m\u001b[1;33m)\u001b[0m\u001b[1;33m\u001b[0m\u001b[1;33m\u001b[0m\u001b[0m\n\u001b[0m",
      "\u001b[1;32mD:\\Anaconda\\lib\\site-packages\\IPython\\core\\interactiveshell.py\u001b[0m in \u001b[0;36mrun_cell_magic\u001b[1;34m(self, magic_name, line, cell)\u001b[0m\n\u001b[0;32m   2369\u001b[0m             \u001b[1;32mwith\u001b[0m \u001b[0mself\u001b[0m\u001b[1;33m.\u001b[0m\u001b[0mbuiltin_trap\u001b[0m\u001b[1;33m:\u001b[0m\u001b[1;33m\u001b[0m\u001b[1;33m\u001b[0m\u001b[0m\n\u001b[0;32m   2370\u001b[0m                 \u001b[0margs\u001b[0m \u001b[1;33m=\u001b[0m \u001b[1;33m(\u001b[0m\u001b[0mmagic_arg_s\u001b[0m\u001b[1;33m,\u001b[0m \u001b[0mcell\u001b[0m\u001b[1;33m)\u001b[0m\u001b[1;33m\u001b[0m\u001b[1;33m\u001b[0m\u001b[0m\n\u001b[1;32m-> 2371\u001b[1;33m                 \u001b[0mresult\u001b[0m \u001b[1;33m=\u001b[0m \u001b[0mfn\u001b[0m\u001b[1;33m(\u001b[0m\u001b[1;33m*\u001b[0m\u001b[0margs\u001b[0m\u001b[1;33m,\u001b[0m \u001b[1;33m**\u001b[0m\u001b[0mkwargs\u001b[0m\u001b[1;33m)\u001b[0m\u001b[1;33m\u001b[0m\u001b[1;33m\u001b[0m\u001b[0m\n\u001b[0m\u001b[0;32m   2372\u001b[0m             \u001b[1;32mreturn\u001b[0m \u001b[0mresult\u001b[0m\u001b[1;33m\u001b[0m\u001b[1;33m\u001b[0m\u001b[0m\n\u001b[0;32m   2373\u001b[0m \u001b[1;33m\u001b[0m\u001b[0m\n",
      "\u001b[1;32mD:\\Anaconda\\lib\\site-packages\\IPython\\core\\magics\\script.py\u001b[0m in \u001b[0;36mnamed_script_magic\u001b[1;34m(line, cell)\u001b[0m\n\u001b[0;32m    140\u001b[0m             \u001b[1;32melse\u001b[0m\u001b[1;33m:\u001b[0m\u001b[1;33m\u001b[0m\u001b[1;33m\u001b[0m\u001b[0m\n\u001b[0;32m    141\u001b[0m                 \u001b[0mline\u001b[0m \u001b[1;33m=\u001b[0m \u001b[0mscript\u001b[0m\u001b[1;33m\u001b[0m\u001b[1;33m\u001b[0m\u001b[0m\n\u001b[1;32m--> 142\u001b[1;33m             \u001b[1;32mreturn\u001b[0m \u001b[0mself\u001b[0m\u001b[1;33m.\u001b[0m\u001b[0mshebang\u001b[0m\u001b[1;33m(\u001b[0m\u001b[0mline\u001b[0m\u001b[1;33m,\u001b[0m \u001b[0mcell\u001b[0m\u001b[1;33m)\u001b[0m\u001b[1;33m\u001b[0m\u001b[1;33m\u001b[0m\u001b[0m\n\u001b[0m\u001b[0;32m    143\u001b[0m \u001b[1;33m\u001b[0m\u001b[0m\n\u001b[0;32m    144\u001b[0m         \u001b[1;31m# write a basic docstring:\u001b[0m\u001b[1;33m\u001b[0m\u001b[1;33m\u001b[0m\u001b[1;33m\u001b[0m\u001b[0m\n",
      "\u001b[1;32m<decorator-gen-111>\u001b[0m in \u001b[0;36mshebang\u001b[1;34m(self, line, cell)\u001b[0m\n",
      "\u001b[1;32mD:\\Anaconda\\lib\\site-packages\\IPython\\core\\magic.py\u001b[0m in \u001b[0;36m<lambda>\u001b[1;34m(f, *a, **k)\u001b[0m\n\u001b[0;32m    185\u001b[0m     \u001b[1;31m# but it's overkill for just that one bit of state.\u001b[0m\u001b[1;33m\u001b[0m\u001b[1;33m\u001b[0m\u001b[1;33m\u001b[0m\u001b[0m\n\u001b[0;32m    186\u001b[0m     \u001b[1;32mdef\u001b[0m \u001b[0mmagic_deco\u001b[0m\u001b[1;33m(\u001b[0m\u001b[0marg\u001b[0m\u001b[1;33m)\u001b[0m\u001b[1;33m:\u001b[0m\u001b[1;33m\u001b[0m\u001b[1;33m\u001b[0m\u001b[0m\n\u001b[1;32m--> 187\u001b[1;33m         \u001b[0mcall\u001b[0m \u001b[1;33m=\u001b[0m \u001b[1;32mlambda\u001b[0m \u001b[0mf\u001b[0m\u001b[1;33m,\u001b[0m \u001b[1;33m*\u001b[0m\u001b[0ma\u001b[0m\u001b[1;33m,\u001b[0m \u001b[1;33m**\u001b[0m\u001b[0mk\u001b[0m\u001b[1;33m:\u001b[0m \u001b[0mf\u001b[0m\u001b[1;33m(\u001b[0m\u001b[1;33m*\u001b[0m\u001b[0ma\u001b[0m\u001b[1;33m,\u001b[0m \u001b[1;33m**\u001b[0m\u001b[0mk\u001b[0m\u001b[1;33m)\u001b[0m\u001b[1;33m\u001b[0m\u001b[1;33m\u001b[0m\u001b[0m\n\u001b[0m\u001b[0;32m    188\u001b[0m \u001b[1;33m\u001b[0m\u001b[0m\n\u001b[0;32m    189\u001b[0m         \u001b[1;32mif\u001b[0m \u001b[0mcallable\u001b[0m\u001b[1;33m(\u001b[0m\u001b[0marg\u001b[0m\u001b[1;33m)\u001b[0m\u001b[1;33m:\u001b[0m\u001b[1;33m\u001b[0m\u001b[1;33m\u001b[0m\u001b[0m\n",
      "\u001b[1;32mD:\\Anaconda\\lib\\site-packages\\IPython\\core\\magics\\script.py\u001b[0m in \u001b[0;36mshebang\u001b[1;34m(self, line, cell)\u001b[0m\n\u001b[0;32m    243\u001b[0m             \u001b[0msys\u001b[0m\u001b[1;33m.\u001b[0m\u001b[0mstderr\u001b[0m\u001b[1;33m.\u001b[0m\u001b[0mflush\u001b[0m\u001b[1;33m(\u001b[0m\u001b[1;33m)\u001b[0m\u001b[1;33m\u001b[0m\u001b[1;33m\u001b[0m\u001b[0m\n\u001b[0;32m    244\u001b[0m         \u001b[1;32mif\u001b[0m \u001b[0margs\u001b[0m\u001b[1;33m.\u001b[0m\u001b[0mraise_error\u001b[0m \u001b[1;32mand\u001b[0m \u001b[0mp\u001b[0m\u001b[1;33m.\u001b[0m\u001b[0mreturncode\u001b[0m\u001b[1;33m!=\u001b[0m\u001b[1;36m0\u001b[0m\u001b[1;33m:\u001b[0m\u001b[1;33m\u001b[0m\u001b[1;33m\u001b[0m\u001b[0m\n\u001b[1;32m--> 245\u001b[1;33m             \u001b[1;32mraise\u001b[0m \u001b[0mCalledProcessError\u001b[0m\u001b[1;33m(\u001b[0m\u001b[0mp\u001b[0m\u001b[1;33m.\u001b[0m\u001b[0mreturncode\u001b[0m\u001b[1;33m,\u001b[0m \u001b[0mcell\u001b[0m\u001b[1;33m,\u001b[0m \u001b[0moutput\u001b[0m\u001b[1;33m=\u001b[0m\u001b[0mout\u001b[0m\u001b[1;33m,\u001b[0m \u001b[0mstderr\u001b[0m\u001b[1;33m=\u001b[0m\u001b[0merr\u001b[0m\u001b[1;33m)\u001b[0m\u001b[1;33m\u001b[0m\u001b[1;33m\u001b[0m\u001b[0m\n\u001b[0m\u001b[0;32m    246\u001b[0m \u001b[1;33m\u001b[0m\u001b[0m\n\u001b[0;32m    247\u001b[0m     \u001b[1;32mdef\u001b[0m \u001b[0m_run_script\u001b[0m\u001b[1;33m(\u001b[0m\u001b[0mself\u001b[0m\u001b[1;33m,\u001b[0m \u001b[0mp\u001b[0m\u001b[1;33m,\u001b[0m \u001b[0mcell\u001b[0m\u001b[1;33m,\u001b[0m \u001b[0mto_close\u001b[0m\u001b[1;33m)\u001b[0m\u001b[1;33m:\u001b[0m\u001b[1;33m\u001b[0m\u001b[1;33m\u001b[0m\u001b[0m\n",
      "\u001b[1;31mCalledProcessError\u001b[0m: Command 'b'     cd data\\n     cp sequences/sequence*.fasta /my_sequences\\n    \\n     \\n    \\n     \\n'' returned non-zero exit status 1."
     ]
    }
   ],
   "source": [
    "%%bash\n",
    "     cd data\n",
    "     cp sequences/sequence.fasta /my_sequences\n",
    "    \n",
    "     \n",
    "    \n",
    "     "
   ]
  },
  {
   "cell_type": "markdown",
   "metadata": {},
   "source": [
    "HOW TO DO IT: The command to copy a file is `cp`. Google it if you need. You can use `cp` in the same way as you used `ls`, incorporating wildcards to copy only certain files just as you have been doing already.\n",
    "\n",
    "Your command will be structured like this (just an example, don't copy and paste it):\n",
    "\n",
    "`cp directory1/selected_files directory2/`\n",
    "\n",
    "You will have to supply three terms and assemble them correctly:\n",
    "1. \"directory1\" refers to where the files are\n",
    "2. \"directory2\" refers to where you will copy them\n",
    "3. “selected_files” term is your wildcard search for fasta files containing \"sequence\" that you probably already wrote above (Quiz 3.4).\n"
   ]
  },
  {
   "cell_type": "markdown",
   "metadata": {},
   "source": [
    "----"
   ]
  },
  {
   "cell_type": "markdown",
   "metadata": {},
   "source": [
    "## 4.5 Wildcards, optional extras "
   ]
  },
  {
   "cell_type": "markdown",
   "metadata": {},
   "source": [
    "This section can be skipped over if you are pushed for time. it provides details of other types of wildcard beyond the asterisk `*`. The more complex your search, the more you will have to use a full range of wildcards. You can read and see examples by Googling unix wildcards\n",
    "\n",
    "### 4.5.1 the ? wildcard\n",
    "As a brief example let's introduce the `?` wildcard. \n",
    "\n",
    "`ls ?i*`\n",
    "\n",
    "In this example we are looking for each file whose second letter is “i” because our term translates as “list filenames with any single character, followed by the letter ‘i’, followed by any number of characters”. As you can guess, the pattern can be built up using several wildcards.\n",
    "\n",
    "How would you find  every file with a three letter extension? \n",
    "\n",
    "`ls *.???`\n",
    "\n",
    "This is “any number of characters, followed by a dot, followed by 3 single characters but not more or less”\n",
    "\n",
    "### 4.5.2 the range operator (`[ ]`) wildcard\n",
    "The range operator (`[ ]`), unlike the previous 2 wildcards which specified any character, allows you to limit to a subset of characters. \n",
    "\n",
    "In this example we are looking for every file whose name either begins with an s or v.\n",
    "\n",
    "`ls [sv]*`\n",
    "\n",
    "And here any fasta record beginning with an s or d\n",
    "\n",
    "`ls data/[sd]*.fas`\n",
    "\n",
    "With ranges we may also include a set by using a hyphen. So for example if we wanted to find every file whose name includes a digit we could do the following:\n",
    "\n",
    "`ls *[0-9]*`\n",
    "\n",
    "To find all the numerically labelled fasta files (sequence1.fas, sequence100.fas) in our directory we could try this:\n",
    "\n",
    "`ls seq*[0-9].fas`\n"
   ]
  },
  {
   "cell_type": "markdown",
   "metadata": {},
   "source": [
    "## Summary\n",
    "```\n",
    "ls\tlist contents of the directory\n",
    "cp\tcopy\n",
    "*\twildcard, stands for 'any characters'\n",
    "?\twildcard, stands for a 'single character'\n",
    "[]\twildcard, specifies a range of characters\n",
    "```\n"
   ]
  },
  {
   "cell_type": "markdown",
   "metadata": {},
   "source": [
    "----"
   ]
  },
  {
   "cell_type": "markdown",
   "metadata": {},
   "source": [
    "# 5 Search, replace, and write output to a new file"
   ]
  },
  {
   "cell_type": "markdown",
   "metadata": {},
   "source": [
    "`grep` is an excellent tool for undertaking simple yet fast searches within text files. But to search and replace within a text file, or to redirect changes to a new file, we will need to use either `sed` or a simple script (OK there are actually numerous ways of doing this utilizing other tools and python scripts but this manual will only deal with simple examples with `sed`). First though we will write text using `echo` and learn about routing data to the right location with `>` `>>` and `<`."
   ]
  },
  {
   "cell_type": "markdown",
   "metadata": {},
   "source": [
    "## 5.1 echo, to write data"
   ]
  },
  {
   "cell_type": "markdown",
   "metadata": {},
   "source": [
    "A useful way to write to a text file is with `echo`. This will print to the screen or a file. \n",
    "Try these commands\n",
    "```\n",
    "$ echo Hello world!\n",
    "$ echo Hello world! > greeting.txt\n",
    "```"
   ]
  },
  {
   "cell_type": "code",
   "execution_count": 18,
   "metadata": {},
   "outputs": [],
   "source": [
    "echo Hello world! > greeting.txt"
   ]
  },
  {
   "cell_type": "markdown",
   "metadata": {},
   "source": [
    "It may not seem like this command has done anything, but it has. You have used the `>` to route the output to a file (greeting.txt) rather than to the screen."
   ]
  },
  {
   "cell_type": "markdown",
   "metadata": {},
   "source": [
    "## 5.2 routing, determine where your data goes"
   ]
  },
  {
   "cell_type": "markdown",
   "metadata": {},
   "source": [
    "If the file 'greeting.txt' does not exist it will be created. We have routed the information to a location (the file) with the greater than (`>`) symbol. If the file does exist it will be overwritten. Check the file now exists (how?), then you can use one of the commands above (cat maybe? Do you remember the others?) to inspect the file you have just created. \n",
    "\n",
    "If you wish to append text to a file rather than replace it you can use the `>>` symbol:\n",
    "\n",
    "`echo ‘Hello again world!’ >> greeting.txt`\n",
    "\n",
    "Try this and check your success. "
   ]
  },
  {
   "cell_type": "code",
   "execution_count": 19,
   "metadata": {},
   "outputs": [],
   "source": [
    "echo ‘Hello again world!’ >> greeting.txt"
   ]
  },
  {
   "cell_type": "markdown",
   "metadata": {},
   "source": [
    "**Routing syntax** (`>`, `>>`) is general to UNIX and can be used with other programs too, you saw an example earlier in the section on sed. Imagine that you need to add an extra fasta sequence to the end of a big sequence file, the append symbol `>>` will be helpful. In reality you would want to take your new text from a file rather than typing it it. In the sed example in section 2.3.1 above the source file was specified using a less than (<) symbol. "
   ]
  },
  {
   "cell_type": "markdown",
   "metadata": {},
   "source": [
    "----"
   ]
  },
  {
   "cell_type": "markdown",
   "metadata": {},
   "source": [
    "## Quiz 3 Concatenation"
   ]
  },
  {
   "cell_type": "markdown",
   "metadata": {},
   "source": [
    "**Background thought experiment, discuss**\n",
    "\n",
    "Think about how, using MS Word, you would open a directory of 3 fasta files and copy the contents of each file into a new \"all_seqs.fas\" file and estimate how quickly you could do this.\n",
    "\n",
    "Now describe how you would do that in Word with 3000 fasta files, or 3,000,000 files and estimate how long it would take. At the command line these solutions (3; 3,000; 3,000,000) are identical and the same amount of work for you! \n",
    "\n",
    "A common bioinformatics task is to **concatenate** a lot of individual sequence files into one single file as described above. This is very time consuming to do in a GUI (Graphical User Interface, like Windows) if you have more than a couple of files to open, copy, close, open, paste. The task at the command line however scales easily to almost any number of files. \n",
    "\n",
    "**Now come up with a solution**\n",
    "\n",
    "You already have all the skills to do this if you learned about wildcards and routing before. Don't worry if not, discuss it and ask for help. It is most important that you know that the command line *scales*. Your cammand that you write here will be *exactly* the same if you concatenate 3 or 3,000,000 fasta files. If you can work out how to do this, and get the syntax correct, show a demonstrator or myself.\n",
    "\n",
    "**Try these 3 tasks:**\n",
    "\n",
    "Go to the `fasta-to-combine` directory. \n",
    "\n",
    "Concatenate all 10 sequence files into a new file with an informative name. \n",
    "\n",
    "Can you do the same excluding the contents of the README.md file? Demonstrate your success (show me) by inserting cells below"
   ]
  },
  {
   "cell_type": "code",
   "execution_count": 84,
   "metadata": {},
   "outputs": [],
   "source": [
    "%%bash\n",
    "    cd data/fasta-to-combine\n",
    "    cat seq**.fas > seqlist.txt"
   ]
  },
  {
   "cell_type": "markdown",
   "metadata": {},
   "source": [
    "----"
   ]
  },
  {
   "cell_type": "markdown",
   "metadata": {},
   "source": [
    "## 5.3 stucturing data files with echo"
   ]
  },
  {
   "cell_type": "markdown",
   "metadata": {},
   "source": [
    "`echo` also allows us to format files correctly. If we need newlines or tabs inserted we can do this by using the -e flag. The tab symbol is `\\t` and newline `\\n`. \n",
    "\n",
    "Can you use these to better format the file \"greeting.txt\" that you created before in the \"routing, determine where your data goes\" section?\n",
    "\n",
    "Try to imagine what the following command will write & discuss with others:\n",
    "\n",
    "`$ echo -e 'column1 \\t column2 \\n RNA \\t DNA' > rna-dna-columns.txt`\n",
    "\n",
    "\n",
    "Check your success. These commands are useful when writing a lot of data to a file programmatically, and when format is important, which is a very common situation for bioinformatics work."
   ]
  },
  {
   "cell_type": "code",
   "execution_count": 160,
   "metadata": {},
   "outputs": [],
   "source": [
    " echo -e 'column1 \\t column2 \\n RNA \\t DNA' > rna-dna-columns.txt"
   ]
  },
  {
   "cell_type": "markdown",
   "metadata": {},
   "source": [
    "Something that is often useful when working with lots of files, as bioinformaticians do, is to know that `echo` can write file information like file names\n",
    "\n",
    "`echo *.fas > fasta-file-names.txt`\n",
    "\n",
    "This would write the name of every file in the current directory with a .fas extension to a file called fasta-file-names.txt.\n",
    "This could be very useful when you need to record lots of output file information. Although I am talking only about bioinformatics today, big data is everywhere in biology. You can manipulated text files of any type of data using your new skills."
   ]
  },
  {
   "cell_type": "code",
   "execution_count": 161,
   "metadata": {},
   "outputs": [],
   "source": [
    "echo *.fas > fasta-file-names.txt"
   ]
  },
  {
   "cell_type": "markdown",
   "metadata": {},
   "source": [
    "## 5.4 `sed`, the stream editor"
   ]
  },
  {
   "cell_type": "markdown",
   "metadata": {},
   "source": [
    "`sed` works best when we need to deal with files as single lines, or rows of text data. Since `sed` doesn’t try to take the whole file into memory, instead dealing with a line at a time, it has real advantages when files are enormous- as they often are for sequence data.\n",
    "To search for and replace Fungi with Fungus in our 18S_seqs.fas file we could do the following:\n",
    "\n",
    "`sed 's/Fungi/Fungus/' < 18S_seqs.fas > fungi-to-fungus.fas`\n",
    "\n",
    "This will replace the single word Fungi we identified using grep with the word Fungus, but output these changes to the file fungi-to-fungus.fas, leaving the original file unchanged. The `s` within the single quotes signifies this is a substitution command and the `/` characters are delimiters that separate the text to search for, and the text to replace it with. \n",
    "\n",
    "In UNIX based systems the `<` signifies an input, so we are taking input from our 18S_seqs.fas file and outputting (`>`) to fungi-to-fungus.fas. "
   ]
  },
  {
   "cell_type": "code",
   "execution_count": 165,
   "metadata": {},
   "outputs": [],
   "source": [
    "%%bash\n",
    " cd data\n",
    " cd my_sequences\n",
    " sed 's/Fungi/Fungus/' < 18S_seqs.fas > fungi-to-fungus.fas"
   ]
  },
  {
   "cell_type": "markdown",
   "metadata": {},
   "source": [
    "## Summary\n",
    "```\n",
    "echo\twrite to a file\n",
    "sed\tsearch and replace\n",
    "<\ttake input from named file\n",
    ">\tdirect output to named file, replacing\n",
    ">>\tdirect output to named file, appending\n",
    "|\tpipe, used to chain together commands\n",
    "*   wildcard, stands for 'any characters'\n",
    "```\n",
    "\n",
    "Test yourselves. In pairs ask each other to explain what itens from the list above do. Each of you ask the other to come up with a (not too difficult) command line using one or two of them."
   ]
  },
  {
   "cell_type": "markdown",
   "metadata": {},
   "source": [
    "----\n"
   ]
  },
  {
   "cell_type": "markdown",
   "metadata": {},
   "source": [
    "# 6 Sorting and filtering lists"
   ]
  },
  {
   "cell_type": "markdown",
   "metadata": {},
   "source": [
    "Not all files of data are convenient to look at. Sometimes there is too much data and it is not structured for the human brain. In these cases it is very useful to filter, sort, count the instances of each record, and write bespoke lists."
   ]
  },
  {
   "cell_type": "markdown",
   "metadata": {},
   "source": [
    "You have already learned some filtering by searching for key phrases with `grep`, using wildcards, and routing data to new files. You are now going to learn to sort and combine identical records and count them."
   ]
  },
  {
   "cell_type": "markdown",
   "metadata": {},
   "source": [
    "## 6.1 counting characters, words, and lines"
   ]
  },
  {
   "cell_type": "markdown",
   "metadata": {},
   "source": [
    "unix has a word count program called `wc`\n",
    "\n",
    "There are many ways to use this but useful options are:\n",
    "```\n",
    "-m count the number of characters\n",
    "-w count the number of words\n",
    "-l count the number of lines\n",
    "\n",
    "```\n",
    "\n",
    "\n",
    "Of course wc, like other programs is more powerful when part of a workflow linked by pipes |. Can you determine what this cammand would do?\n",
    "\n",
    "`cat *.csv | wc -l`"
   ]
  },
  {
   "cell_type": "markdown",
   "metadata": {},
   "source": [
    "Try to word count the number of lines in some files in `data/my_sequences`"
   ]
  },
  {
   "cell_type": "code",
   "execution_count": 2,
   "metadata": {},
   "outputs": [
    {
     "name": "stdout",
     "output_type": "stream",
     "text": [
      "2 sequence1.fas\n"
     ]
    }
   ],
   "source": [
    "%%bash\n",
    "    cd data\n",
    "    cd my_sequences\n",
    "    wc -l sequence1.fas"
   ]
  },
  {
   "cell_type": "markdown",
   "metadata": {},
   "source": [
    "Some programs however can count the number of instances they return using their own `-c` flag which may be quicker than using `wc`itself"
   ]
  },
  {
   "cell_type": "markdown",
   "metadata": {},
   "source": [
    "## 6.2 sort uniq"
   ]
  },
  {
   "cell_type": "markdown",
   "metadata": {},
   "source": [
    "The `sort` command rearranges the lines of a file into alphabetical and numerical order, which can be very useful. "
   ]
  },
  {
   "cell_type": "markdown",
   "metadata": {},
   "source": [
    "The `uniq` command is a way of filtering out repeated lines in a file. It operates by comparing adjacent lines and determining if they are the same. This strategy reuires the file to be sorted first so `sort` and `uniq` are often employed together. The output of `uniq` are the non-redundant (ie unique, occuring once) lines of a file."
   ]
  },
  {
   "cell_type": "markdown",
   "metadata": {},
   "source": [
    "`uniq` can report the number of times a line occurred by using the `-c` flag. It prepends the number of occurrences to the line. We could do something like this:\n",
    "```\n",
    "sort file.txt\n",
    "uniq -c file.txt\n",
    "head -5 file.txt\n",
    "\n",
    "7 apples\n",
    "2 bananas\n",
    "1 cherries\n",
    "1 durian\n",
    "```"
   ]
  },
  {
   "cell_type": "markdown",
   "metadata": {},
   "source": [
    "It might be better however to link the commands together with pipes, each action passing its results to the next. Doing so would reduce typing and errors."
   ]
  },
  {
   "cell_type": "markdown",
   "metadata": {},
   "source": [
    "Try to sort and count the fruit in `data/fruit.txt` using pipes and no pipes. Can you just display the top three? Can you write the top three to a `fruit_top3.txt` file?"
   ]
  },
  {
   "cell_type": "code",
   "execution_count": 327,
   "metadata": {
    "scrolled": true
   },
   "outputs": [
    {
     "name": "stdout",
     "output_type": "stream",
     "text": [
      "\n",
      "      6 apples\r\n",
      "      6 durian\r\n",
      "      8 cherries\r\n"
     ]
    }
   ],
   "source": [
    "%%bash\n",
    " cd data \n",
    "     echo \n",
    "         uniq -c | sort  fruit.txt |\n",
    "         uniq -c | sort |\n",
    "         tail -3 > fruit_top3.txt "
   ]
  },
  {
   "cell_type": "markdown",
   "metadata": {},
   "source": [
    "# Assessment 4: cancer associated gene lists"
   ]
  },
  {
   "cell_type": "markdown",
   "metadata": {},
   "source": [
    "This final assessment is by far the most challenging. Remember though, that you may discuss and exchange ideas with others in the class. Google it if you wish! But you must learn enough to carry it out yourself. Do not give up, you have made great progress up until here!\n",
    "\n",
    "Unlike the other assessments this is a complete section and you must do all 5 parts in bold labeled A4.1 - A4.5"
   ]
  },
  {
   "cell_type": "markdown",
   "metadata": {},
   "source": [
    "## Differential expression of genes in cancer tissue"
   ]
  },
  {
   "cell_type": "markdown",
   "metadata": {},
   "source": [
    "Dr Smith is studying which genes are overexpressed in different cancers. She designs a small pilot project before launching into her main research in order to get candidate genes that she will focus on later. \n",
    "1. take cancerous tissues samples from both lung and heart\n",
    "2. convert mRNA to cDNA and sequence\n",
    "3. identify the gene name for each DNA sequence\n",
    "4. organise the gene name data into heart and lung collections\n",
    "5. count and compare the unique gene names in both tissues\n",
    "\n",
    "Steps 1-3 have been completed for you. It is now time for the bioinformaticians to get to work. You will now carry out steps 4 and 5 by completing the whole of this section."
   ]
  },
  {
   "cell_type": "markdown",
   "metadata": {},
   "source": [
    "## Analysis"
   ]
  },
  {
   "cell_type": "markdown",
   "metadata": {},
   "source": [
    "You have been provided with a file called `genes/genelist.txt`. This contains the name of each gene found, with a suffix indicating in what tissue the mRNA originated. \n",
    "\n",
    "**A4.1 Examine the list using your file-reading skills**"
   ]
  },
  {
   "cell_type": "code",
   "execution_count": 13,
   "metadata": {},
   "outputs": [
    {
     "name": "stdout",
     "output_type": "stream",
     "text": [
      "      1 genelist.txt\r\n"
     ]
    }
   ],
   "source": [
    "%%bash\n",
    "    cd data/genes\n",
    "     echo | sort genelist.txt |\n",
    "        uniq -c | sort "
   ]
  },
  {
   "cell_type": "markdown",
   "metadata": {},
   "source": [
    "**A4.2 determine how many records it contains**"
   ]
  },
  {
   "cell_type": "code",
   "execution_count": 260,
   "metadata": {},
   "outputs": [
    {
     "name": "stdout",
     "output_type": "stream",
     "text": [
      "983 genelist.txt\n"
     ]
    }
   ],
   "source": [
    "%%bash\n",
    "    cd data/genes\n",
    "    wc -l genelist.txt"
   ]
  },
  {
   "cell_type": "markdown",
   "metadata": {},
   "source": [
    "## Organising the data into files"
   ]
  },
  {
   "cell_type": "markdown",
   "metadata": {},
   "source": [
    "You will need to separate the two classes of records (heart, lung) into two separate files in order to work with them easily. You have previously done something similar with `grep`. You should use carefully chosen file names so that it is clear what is in each. A common error would be to analyse the wrong file because it has a similar name."
   ]
  },
  {
   "cell_type": "markdown",
   "metadata": {},
   "source": [
    "**A4.3 Create a search term and separate the two types of gene names and write them into separate well-named files**"
   ]
  },
  {
   "cell_type": "code",
   "execution_count": 16,
   "metadata": {},
   "outputs": [],
   "source": [
    "%%bash\n",
    "    cd data/genes \n",
    "        echo | sort  genelist.txt |\n",
    "        grep 'lung' > genelist_lung.txt; \n",
    "      \n",
    "        echo | sort  genelist.txt | \n",
    "        grep 'heart' > genelist_heart.txt"
   ]
  },
  {
   "cell_type": "markdown",
   "metadata": {},
   "source": [
    "You should check both files to confirm there is only one type of tisue data, and count the number of records in each as you did before"
   ]
  },
  {
   "cell_type": "code",
   "execution_count": 297,
   "metadata": {},
   "outputs": [
    {
     "name": "stdout",
     "output_type": "stream",
     "text": [
      "475 genelist_lung.txt\n"
     ]
    }
   ],
   "source": [
    "%%bash\n",
    "    cd data/genes\n",
    "    wc -l genelist_lung.txt"
   ]
  },
  {
   "cell_type": "code",
   "execution_count": 298,
   "metadata": {},
   "outputs": [
    {
     "name": "stdout",
     "output_type": "stream",
     "text": [
      "475 genelist_heart.txt\n"
     ]
    }
   ],
   "source": [
    "%%bash\n",
    "    cd data/genes\n",
    "    wc -l genelist_heart.txt"
   ]
  },
  {
   "cell_type": "markdown",
   "metadata": {},
   "source": [
    "## Sorting and counting gene names"
   ]
  },
  {
   "cell_type": "markdown",
   "metadata": {},
   "source": [
    "For each file you are are first going to determine the number of times each gene name occurs. That is how many unique records exist. You have already combined `sort` and `uniq`. You should remember how to write data to a file, and have used this with several programs already. A challenging aspect here are determining how many times you will need to sort. Also (although its not necessary if you have a good plan) many people will want to have the most frequently expressed genes at the top of the file. You may need to look up `sort` flags to do this. "
   ]
  },
  {
   "cell_type": "markdown",
   "metadata": {},
   "source": [
    "**A4.4 create two files (ie both heart and lung), each containing a sorted list of all the unique gene names, with the gene-name counts next to them**"
   ]
  },
  {
   "cell_type": "code",
   "execution_count": 9,
   "metadata": {},
   "outputs": [],
   "source": [
    "%%bash\n",
    "    cd data/genes \n",
    "        echo | sort  genelist.txt |\n",
    "        uniq -c | sort | grep 'lung' > genelist_lung.txt; \n",
    "      \n",
    "        echo  | sort  genelist.txt |\n",
    "        uniq -c | sort |   \n",
    "        grep 'heart' > genelist_heart.txt"
   ]
  },
  {
   "cell_type": "markdown",
   "metadata": {},
   "source": [
    "**A4.5 Write the lines containing the most frequent 5 gene names from each tissue to a file**"
   ]
  },
  {
   "cell_type": "code",
   "execution_count": 12,
   "metadata": {},
   "outputs": [
    {
     "name": "stdout",
     "output_type": "stream",
     "text": [
      "      1 ZSCAN22-lung\r\n",
      "      2 PMEPA1-lung\r\n",
      "      5 HSPA6-lung\r\n",
      "      5 STX18-lung\r\n",
      "     10 GOLGA3-lung\r\n",
      "\n",
      "      1 ZNF526-heart\r\n",
      "      1 ZSCAN22-heart\r\n",
      "      3 BAHD1-heart\r\n",
      "      4 RANGAP1-heart\r\n",
      "     11 PMEPA1-heart\r\n"
     ]
    }
   ],
   "source": [
    "%%bash\n",
    "    cd data/genes \n",
    "        echo | sort  genelist_lung.txt  | sort |\n",
    "        tail -5\n",
    "        echo \"\"\n",
    "        echo | sort  genelist_heart.txt  | sort |\n",
    "        tail -5"
   ]
  },
  {
   "cell_type": "markdown",
   "metadata": {},
   "source": [
    "Are there any differences between heart and lung data? What should Dr Smith conclude? A document has been provided for you to look up the full gene descriptions from these short gene names if you are interested. What sort of questions could Dr Smith now think about? "
   ]
  },
  {
   "cell_type": "markdown",
   "metadata": {},
   "source": [
    "You have almost finishd, well done, please ask a demonstrator for a high five.\n",
    "\n",
    "Now you can upload a PDF of this workbook to complete your assessment. Read section 7 below."
   ]
  },
  {
   "cell_type": "markdown",
   "metadata": {},
   "source": [
    "----\n",
    "\n",
    "# THIS IS REALLY IMPORTANT DON'T SKIP SECTION 7\n",
    "\n",
    "----\n"
   ]
  },
  {
   "cell_type": "markdown",
   "metadata": {},
   "source": [
    "## 7. Uploading your assessment"
   ]
  },
  {
   "cell_type": "markdown",
   "metadata": {},
   "source": [
    "**At the end of the practical you must save and upload your practical notebook**\n",
    "\n",
    "1. Check your name and student ID are in a cell at the top of this page. \n",
    "2. Use the internet browser menu to `print as PDF`\n",
    "3. Save this PDF somewhere safe. You should rename it informatively (Bloggs_unixprac.pdf, 978675_commandline.pdf). \n",
    "4. Validate your work. Check how many pages it has and if it is >20 pages you have done something wrong, probably by using `cat` on a very large file. Do not submit, go back and have another try. Now upload it to the Canvas assignment for Bioinformatics part 1: \"013_CWRK:Practical assessment # 2/1- Bioinformatics Part 1 --6%\""
   ]
  },
  {
   "cell_type": "markdown",
   "metadata": {},
   "source": [
    "# YOU ARE NOW COMPLETELY FINISHED, WELL DONE"
   ]
  },
  {
   "cell_type": "markdown",
   "metadata": {},
   "source": [
    "Check with someone and go"
   ]
  },
  {
   "cell_type": "markdown",
   "metadata": {},
   "source": [
    "----\n",
    "\n",
    "# Appendix 1 the fasta file format\n",
    "Fasta (pronounced “fast- ay” to rhyme with May) is a concise standard text file format used for sequence data. A fasta file may contain one or many separate sequence records, each in fasta format. You will need to use this format several times during today’s session. Both DNA and amino acid sequences can be formatted this way. Essentially it is a greater than symbol “>” followed by any title you want to give it, then, starting on the next line, the sequence.\n",
    "\n",
    "### Here is the description of FASTA from GenBank.\n",
    "“A sequence in FASTA format begins with a single-line description, followed by lines of sequence data. The description line is distinguished from the sequence data by a greater-than (\">\") symbol in the first column”\n",
    "\n",
    "Example sequences in FASTA format are: \n",
    "```\n",
    ">AAH22472.1 Malic enzyme 3, NADP(+)-dependent, mitochondrial [Homo sapiens]\n",
    "MGAALGTGTRLAPWPGRACGALPRWTPTAPAQGCHSKPGPARPVPLKKRGYDVTRNPHLNKGMAFTLEER\n",
    "LQLGIHGLIPPCFLGQDVQLLRIMGYYERQQSDLDKYIILMTLQDRNEKLFYRVLTSDVEKFMPIVYTPT\n",
    "VGLACQHYGLTFRRPRGLFITIHDKGHLATMLNSWPEDNIKAVVVTDGERILGLGDLGCYGMGIPVGKLA\n",
    "LYTACGGVNPQQCLPVLLDVGTNNEELLRDPLYIGLKHQRVHGKAYDDLLDEFMQAVTDKFGINCLIQFE\n",
    "\n",
    ">My sequence\n",
    "CCGGGCTCTGCCTCGATGCAAACGTTATGCATATATGTATTATCACCATTATTTTATATCAAACATATCC\n",
    "TATATATTAATACATCTCATTTAACAGAAATATAGGTAGATATACCACATATTTGTCAACAACATTTTAA\n",
    "CTAAGGGGTACATAAACCATAACTAAGTACTCTCCAATAAATATTTATTAATTACTGAACGATAGTTTAA\n",
    "GACCGATCACAACTCTCACTGGTTAAGATATACCAAGTACCCACCATCCTATTTACCTCCCTTATTTAAT\n",
    "GTAGTAAGAGCCCACCATCAGTTGATTTCTTAATGTTAACGGTTCTTGAAGGTCAAGGACAAATATTCGT\n",
    "GGGGGTTTCACTTAGTGAACTATTCCTGGCATCTGGTTCCTATTTCAGGTCCAATAATTGTTATAATTCC\n",
    "CCATACTTTCATCGACGCTTGCATAAGTTAATGGTGGTAATACATACTCCTCGTTACCCACCATGCCGGG\n",
    "CGTTCTTTCCAGCGTGTGGGGGGTTCTCTTTTTTTTTNNCCTTTCA\n",
    "```\n",
    "### Fasta format records and fasta files\n",
    "Above are two fasta records. A fasta record contains only a single header with a single sequence. It is one thing. The record is in fasta format because it is a greater than symbol, then a header, then the sequence.\n",
    "\n",
    "A fasta file is a text file. It usually has the extension .fas or .fsa or .fna or .fasta. Each text file may contain one or more than one fasta record. It is not uncommon to have tens of thousands of fasta records in a single text file. For it to count as a fasta file all the records must be in valid fasta format."
   ]
  },
  {
   "cell_type": "markdown",
   "metadata": {},
   "source": [
    "## Appendix 2\n",
    "### Some reading if you wish to extend your knowledge\n",
    "- UNIX Tutorial for Beginners http://www.ee.surrey.ac.uk/Teaching/Unix/\n",
    "- Command line history tricks http://www.thegeekstuff.com/2008/08/15-examples-to-master-linux-command-line-history/\n",
    "- Software Carpentry Introduction to the unix shell on YouTube (great short videos) \n",
    "- Unix and Perl Primer for Biologists http://korflab.ucdavis.edu/Unix_and_Perl/unix_and_perl_v3.0.pdf\n",
    "- Bradnam and Korf. (2012) UNIX and Perl to the Rescue!: A Field Guide for the Life Sciences (and Other Data-rich Pursuits). ISBN-10: 0521169828  ISBN-13: 978-0521169820 http://www.amazon.co.uk/gp/product/0521169828\n",
    "- GREP http://www.gnu.org/software/grep/manual/grep.html\n",
    "- SED http://www.gnu.org/software/sed/manual/sed.html\n",
    "- Software Carpentry Introduction to programming in Python (great short YouTube videos) \n",
    "- Python for Biologists http://pythonforbiologists.com\n",
    "- Python for non-programmers https://wiki.python.org/moin/BeginnersGuide/NonProgrammers"
   ]
  }
 ],
 "metadata": {
  "kernelspec": {
   "display_name": "Python 3",
   "language": "python",
   "name": "python3"
  },
  "language_info": {
   "codemirror_mode": {
    "name": "ipython",
    "version": 3
   },
   "file_extension": ".py",
   "mimetype": "text/x-python",
   "name": "python",
   "nbconvert_exporter": "python",
   "pygments_lexer": "ipython3",
   "version": "3.8.3"
  }
 },
 "nbformat": 4,
 "nbformat_minor": 2
}
